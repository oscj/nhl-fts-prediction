{
 "cells": [
  {
   "cell_type": "code",
   "execution_count": 11,
   "metadata": {},
   "outputs": [],
   "source": [
    "import numpy as np\n",
    "import pandas as pd\n",
    "import nhl_stats as nhl\n",
    "import matplotlib.pyplot as plt\n",
    "import pprint"
   ]
  },
  {
   "cell_type": "markdown",
   "metadata": {},
   "source": [
    "## Generate & Save Teams Dataframe"
   ]
  },
  {
   "cell_type": "code",
   "execution_count": 7,
   "metadata": {},
   "outputs": [],
   "source": [
    "teams = nhl.get_teams()\n",
    "team_names = []\n",
    "team_ids  = []\n",
    "teams_df = pd.DataFrame()\n",
    "for team in teams:\n",
    "    team_names.append(team['name'])\n",
    "    team_ids.append(team['id'])\n",
    "\n",
    "teams_df['Names'] = team_names\n",
    "teams_df['Ids'] = team_ids\n",
    "\n",
    "teams_df.to_csv('csv/teams.csv')"
   ]
  },
  {
   "cell_type": "markdown",
   "metadata": {},
   "source": [
    "## Generate Edmonton Oilers Specific Data"
   ]
  },
  {
   "cell_type": "code",
   "execution_count": 22,
   "metadata": {},
   "outputs": [],
   "source": [
    "OILERS_ID = 22\n",
    "\n",
    "# parallell arrays\n",
    "oilers_roster = nhl.get_team_roster(team_id=OILERS_ID)\n",
    "oilers_player_info = [nhl.get_player_info(player_id=player['person']['id']) for player in oilers_roster]\n",
    "oilers_player_stats = [nhl.get_player_stats_for_season(player_id=player['person']['id'], season=2021) for player in oilers_roster]\n",
    "\n"
   ]
  },
  {
   "cell_type": "markdown",
   "metadata": {},
   "source": [
    "## Generate Player DataFrame for Edmonton Oilers"
   ]
  },
  {
   "cell_type": "code",
   "execution_count": 32,
   "metadata": {},
   "outputs": [],
   "source": [
    "combined_oilers_player_data = []\n",
    "for i in range(len(oilers_roster)):\n",
    "    try:\n",
    "        player_stats = oilers_player_stats[i][0]['splits'][0]['stat']\n",
    "        player_info = oilers_player_info[i]\n",
    "        \n",
    "        # combine data, append to list\n",
    "        combined = {**player_info, **player_stats}\n",
    "        combined_oilers_player_data.append(combined)\n",
    "    except Exception as e:\n",
    "        continue"
   ]
  },
  {
   "cell_type": "code",
   "execution_count": 36,
   "metadata": {},
   "outputs": [],
   "source": [
    "oilers_players_df = pd.DataFrame(combined_oilers_player_data)\n",
    "oilers_players_df.to_csv(\"csv/oilers_players_info_and_stats.csv\")"
   ]
  }
 ],
 "metadata": {
  "interpreter": {
   "hash": "0adcc2737ebf6a4a119f135174df96668767fca1ef1112612db5ecadf2b6d608"
  },
  "kernelspec": {
   "display_name": "Python 3.8.5 64-bit",
   "name": "python3"
  },
  "language_info": {
   "codemirror_mode": {
    "name": "ipython",
    "version": 3
   },
   "file_extension": ".py",
   "mimetype": "text/x-python",
   "name": "python",
   "nbconvert_exporter": "python",
   "pygments_lexer": "ipython3",
   "version": "3.8.5"
  },
  "orig_nbformat": 4
 },
 "nbformat": 4,
 "nbformat_minor": 2
}
