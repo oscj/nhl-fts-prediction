{
 "cells": [
  {
   "cell_type": "code",
   "execution_count": 195,
   "metadata": {},
   "outputs": [],
   "source": [
    "import pandas as pd\n",
    "import numpy as np\n",
    "from numpy.linalg import inv\n",
    "import matplotlib.pyplot as plt\n",
    "import math"
   ]
  },
  {
   "cell_type": "code",
   "execution_count": 196,
   "metadata": {},
   "outputs": [
    {
     "data": {
      "text/html": [
       "<div>\n",
       "<style scoped>\n",
       "    .dataframe tbody tr th:only-of-type {\n",
       "        vertical-align: middle;\n",
       "    }\n",
       "\n",
       "    .dataframe tbody tr th {\n",
       "        vertical-align: top;\n",
       "    }\n",
       "\n",
       "    .dataframe thead th {\n",
       "        text-align: right;\n",
       "    }\n",
       "</style>\n",
       "<table border=\"1\" class=\"dataframe\">\n",
       "  <thead>\n",
       "    <tr style=\"text-align: right;\">\n",
       "      <th></th>\n",
       "      <th>home_pim</th>\n",
       "      <th>home_shots</th>\n",
       "      <th>home_powerPlayPercentage</th>\n",
       "      <th>home_faceOffWinPercentage</th>\n",
       "      <th>home_blocked</th>\n",
       "      <th>home_takeaways</th>\n",
       "      <th>home_giveaways</th>\n",
       "      <th>home_hits</th>\n",
       "      <th>away_pim</th>\n",
       "      <th>away_shots</th>\n",
       "      <th>away_powerPlayPercentage</th>\n",
       "      <th>away_faceOffWinPercentage</th>\n",
       "      <th>away_blocked</th>\n",
       "      <th>away_takeaways</th>\n",
       "      <th>away_giveaways</th>\n",
       "      <th>away_hits</th>\n",
       "      <th>totalGoals</th>\n",
       "    </tr>\n",
       "  </thead>\n",
       "  <tbody>\n",
       "    <tr>\n",
       "      <th>2</th>\n",
       "      <td>10</td>\n",
       "      <td>29</td>\n",
       "      <td>0.0</td>\n",
       "      <td>68.2</td>\n",
       "      <td>17</td>\n",
       "      <td>5</td>\n",
       "      <td>2</td>\n",
       "      <td>23</td>\n",
       "      <td>12</td>\n",
       "      <td>15</td>\n",
       "      <td>33.3</td>\n",
       "      <td>31.8</td>\n",
       "      <td>8</td>\n",
       "      <td>6</td>\n",
       "      <td>4</td>\n",
       "      <td>23</td>\n",
       "      <td>6</td>\n",
       "    </tr>\n",
       "    <tr>\n",
       "      <th>5</th>\n",
       "      <td>10</td>\n",
       "      <td>27</td>\n",
       "      <td>0.0</td>\n",
       "      <td>51.6</td>\n",
       "      <td>13</td>\n",
       "      <td>8</td>\n",
       "      <td>16</td>\n",
       "      <td>45</td>\n",
       "      <td>4</td>\n",
       "      <td>40</td>\n",
       "      <td>40.0</td>\n",
       "      <td>48.4</td>\n",
       "      <td>4</td>\n",
       "      <td>3</td>\n",
       "      <td>9</td>\n",
       "      <td>22</td>\n",
       "      <td>4</td>\n",
       "    </tr>\n",
       "    <tr>\n",
       "      <th>9</th>\n",
       "      <td>4</td>\n",
       "      <td>41</td>\n",
       "      <td>50.0</td>\n",
       "      <td>41.4</td>\n",
       "      <td>18</td>\n",
       "      <td>4</td>\n",
       "      <td>10</td>\n",
       "      <td>24</td>\n",
       "      <td>4</td>\n",
       "      <td>15</td>\n",
       "      <td>50.0</td>\n",
       "      <td>58.6</td>\n",
       "      <td>11</td>\n",
       "      <td>4</td>\n",
       "      <td>9</td>\n",
       "      <td>13</td>\n",
       "      <td>7</td>\n",
       "    </tr>\n",
       "    <tr>\n",
       "      <th>10</th>\n",
       "      <td>2</td>\n",
       "      <td>46</td>\n",
       "      <td>50.0</td>\n",
       "      <td>45.6</td>\n",
       "      <td>9</td>\n",
       "      <td>8</td>\n",
       "      <td>12</td>\n",
       "      <td>29</td>\n",
       "      <td>6</td>\n",
       "      <td>39</td>\n",
       "      <td>0.0</td>\n",
       "      <td>54.4</td>\n",
       "      <td>13</td>\n",
       "      <td>6</td>\n",
       "      <td>6</td>\n",
       "      <td>20</td>\n",
       "      <td>7</td>\n",
       "    </tr>\n",
       "    <tr>\n",
       "      <th>11</th>\n",
       "      <td>2</td>\n",
       "      <td>24</td>\n",
       "      <td>66.7</td>\n",
       "      <td>57.1</td>\n",
       "      <td>7</td>\n",
       "      <td>3</td>\n",
       "      <td>19</td>\n",
       "      <td>23</td>\n",
       "      <td>6</td>\n",
       "      <td>34</td>\n",
       "      <td>0.0</td>\n",
       "      <td>42.9</td>\n",
       "      <td>15</td>\n",
       "      <td>9</td>\n",
       "      <td>9</td>\n",
       "      <td>15</td>\n",
       "      <td>5</td>\n",
       "    </tr>\n",
       "    <tr>\n",
       "      <th>...</th>\n",
       "      <td>...</td>\n",
       "      <td>...</td>\n",
       "      <td>...</td>\n",
       "      <td>...</td>\n",
       "      <td>...</td>\n",
       "      <td>...</td>\n",
       "      <td>...</td>\n",
       "      <td>...</td>\n",
       "      <td>...</td>\n",
       "      <td>...</td>\n",
       "      <td>...</td>\n",
       "      <td>...</td>\n",
       "      <td>...</td>\n",
       "      <td>...</td>\n",
       "      <td>...</td>\n",
       "      <td>...</td>\n",
       "      <td>...</td>\n",
       "    </tr>\n",
       "    <tr>\n",
       "      <th>21383</th>\n",
       "      <td>4</td>\n",
       "      <td>32</td>\n",
       "      <td>0.0</td>\n",
       "      <td>52.6</td>\n",
       "      <td>15</td>\n",
       "      <td>5</td>\n",
       "      <td>9</td>\n",
       "      <td>29</td>\n",
       "      <td>8</td>\n",
       "      <td>19</td>\n",
       "      <td>0.0</td>\n",
       "      <td>47.4</td>\n",
       "      <td>23</td>\n",
       "      <td>6</td>\n",
       "      <td>7</td>\n",
       "      <td>33</td>\n",
       "      <td>4</td>\n",
       "    </tr>\n",
       "    <tr>\n",
       "      <th>21384</th>\n",
       "      <td>4</td>\n",
       "      <td>23</td>\n",
       "      <td>0.0</td>\n",
       "      <td>43.9</td>\n",
       "      <td>23</td>\n",
       "      <td>14</td>\n",
       "      <td>19</td>\n",
       "      <td>20</td>\n",
       "      <td>6</td>\n",
       "      <td>24</td>\n",
       "      <td>50.0</td>\n",
       "      <td>56.1</td>\n",
       "      <td>17</td>\n",
       "      <td>8</td>\n",
       "      <td>7</td>\n",
       "      <td>13</td>\n",
       "      <td>3</td>\n",
       "    </tr>\n",
       "    <tr>\n",
       "      <th>21386</th>\n",
       "      <td>9</td>\n",
       "      <td>32</td>\n",
       "      <td>0.0</td>\n",
       "      <td>63.6</td>\n",
       "      <td>13</td>\n",
       "      <td>4</td>\n",
       "      <td>12</td>\n",
       "      <td>27</td>\n",
       "      <td>9</td>\n",
       "      <td>37</td>\n",
       "      <td>0.0</td>\n",
       "      <td>36.4</td>\n",
       "      <td>17</td>\n",
       "      <td>7</td>\n",
       "      <td>10</td>\n",
       "      <td>27</td>\n",
       "      <td>7</td>\n",
       "    </tr>\n",
       "    <tr>\n",
       "      <th>21390</th>\n",
       "      <td>4</td>\n",
       "      <td>37</td>\n",
       "      <td>75.0</td>\n",
       "      <td>49.0</td>\n",
       "      <td>6</td>\n",
       "      <td>3</td>\n",
       "      <td>11</td>\n",
       "      <td>9</td>\n",
       "      <td>8</td>\n",
       "      <td>21</td>\n",
       "      <td>0.0</td>\n",
       "      <td>51.0</td>\n",
       "      <td>10</td>\n",
       "      <td>3</td>\n",
       "      <td>2</td>\n",
       "      <td>17</td>\n",
       "      <td>5</td>\n",
       "    </tr>\n",
       "    <tr>\n",
       "      <th>21391</th>\n",
       "      <td>18</td>\n",
       "      <td>33</td>\n",
       "      <td>0.0</td>\n",
       "      <td>50.0</td>\n",
       "      <td>17</td>\n",
       "      <td>7</td>\n",
       "      <td>14</td>\n",
       "      <td>31</td>\n",
       "      <td>12</td>\n",
       "      <td>31</td>\n",
       "      <td>0.0</td>\n",
       "      <td>50.0</td>\n",
       "      <td>14</td>\n",
       "      <td>3</td>\n",
       "      <td>3</td>\n",
       "      <td>22</td>\n",
       "      <td>1</td>\n",
       "    </tr>\n",
       "  </tbody>\n",
       "</table>\n",
       "<p>12459 rows × 17 columns</p>\n",
       "</div>"
      ],
      "text/plain": [
       "       home_pim  home_shots  home_powerPlayPercentage  \\\n",
       "2            10          29                       0.0   \n",
       "5            10          27                       0.0   \n",
       "9             4          41                      50.0   \n",
       "10            2          46                      50.0   \n",
       "11            2          24                      66.7   \n",
       "...         ...         ...                       ...   \n",
       "21383         4          32                       0.0   \n",
       "21384         4          23                       0.0   \n",
       "21386         9          32                       0.0   \n",
       "21390         4          37                      75.0   \n",
       "21391        18          33                       0.0   \n",
       "\n",
       "       home_faceOffWinPercentage  home_blocked  home_takeaways  \\\n",
       "2                           68.2            17               5   \n",
       "5                           51.6            13               8   \n",
       "9                           41.4            18               4   \n",
       "10                          45.6             9               8   \n",
       "11                          57.1             7               3   \n",
       "...                          ...           ...             ...   \n",
       "21383                       52.6            15               5   \n",
       "21384                       43.9            23              14   \n",
       "21386                       63.6            13               4   \n",
       "21390                       49.0             6               3   \n",
       "21391                       50.0            17               7   \n",
       "\n",
       "       home_giveaways  home_hits  away_pim  away_shots  \\\n",
       "2                   2         23        12          15   \n",
       "5                  16         45         4          40   \n",
       "9                  10         24         4          15   \n",
       "10                 12         29         6          39   \n",
       "11                 19         23         6          34   \n",
       "...               ...        ...       ...         ...   \n",
       "21383               9         29         8          19   \n",
       "21384              19         20         6          24   \n",
       "21386              12         27         9          37   \n",
       "21390              11          9         8          21   \n",
       "21391              14         31        12          31   \n",
       "\n",
       "       away_powerPlayPercentage  away_faceOffWinPercentage  away_blocked  \\\n",
       "2                          33.3                       31.8             8   \n",
       "5                          40.0                       48.4             4   \n",
       "9                          50.0                       58.6            11   \n",
       "10                          0.0                       54.4            13   \n",
       "11                          0.0                       42.9            15   \n",
       "...                         ...                        ...           ...   \n",
       "21383                       0.0                       47.4            23   \n",
       "21384                      50.0                       56.1            17   \n",
       "21386                       0.0                       36.4            17   \n",
       "21390                       0.0                       51.0            10   \n",
       "21391                       0.0                       50.0            14   \n",
       "\n",
       "       away_takeaways  away_giveaways  away_hits  totalGoals  \n",
       "2                   6               4         23           6  \n",
       "5                   3               9         22           4  \n",
       "9                   4               9         13           7  \n",
       "10                  6               6         20           7  \n",
       "11                  9               9         15           5  \n",
       "...               ...             ...        ...         ...  \n",
       "21383               6               7         33           4  \n",
       "21384               8               7         13           3  \n",
       "21386               7              10         27           7  \n",
       "21390               3               2         17           5  \n",
       "21391               3               3         22           1  \n",
       "\n",
       "[12459 rows x 17 columns]"
      ]
     },
     "execution_count": 196,
     "metadata": {},
     "output_type": "execute_result"
    }
   ],
   "source": [
    "game_stats = pd.read_csv('../csv/game_stats.csv')\n",
    "game_stats[\"totalGoals\"] = game_stats[\"home_goals\"] + game_stats[\"away_goals\"]\n",
    "game_stats = game_stats[game_stats[\"totalGoals\"] < 10]  # remove outliers 99% of games will be kept\n",
    "del game_stats[\"Unnamed: 0\"]\n",
    "del game_stats[\"home_goals\"]\n",
    "del game_stats[\"away_goals\"]\n",
    "del game_stats[\"home_powerPlayGoals\"]\n",
    "del game_stats[\"away_powerPlayGoals\"]\n",
    "del game_stats[\"home_powerPlayOpportunities\"]\n",
    "del game_stats[\"away_powerPlayOpportunities\"]\n",
    "\n",
    "game_stats = game_stats.drop_duplicates()\n",
    "game_stats = game_stats.dropna()\n",
    "\n",
    "game_stats"
   ]
  },
  {
   "cell_type": "markdown",
   "metadata": {},
   "source": [
    "### Partition Training & Testing Data"
   ]
  },
  {
   "cell_type": "code",
   "execution_count": 197,
   "metadata": {},
   "outputs": [
    {
     "data": {
      "text/html": [
       "<div>\n",
       "<style scoped>\n",
       "    .dataframe tbody tr th:only-of-type {\n",
       "        vertical-align: middle;\n",
       "    }\n",
       "\n",
       "    .dataframe tbody tr th {\n",
       "        vertical-align: top;\n",
       "    }\n",
       "\n",
       "    .dataframe thead th {\n",
       "        text-align: right;\n",
       "    }\n",
       "</style>\n",
       "<table border=\"1\" class=\"dataframe\">\n",
       "  <thead>\n",
       "    <tr style=\"text-align: right;\">\n",
       "      <th></th>\n",
       "      <th>home_pim</th>\n",
       "      <th>home_shots</th>\n",
       "      <th>home_powerPlayPercentage</th>\n",
       "      <th>home_faceOffWinPercentage</th>\n",
       "      <th>home_blocked</th>\n",
       "      <th>home_takeaways</th>\n",
       "      <th>home_giveaways</th>\n",
       "      <th>home_hits</th>\n",
       "      <th>away_pim</th>\n",
       "      <th>away_shots</th>\n",
       "      <th>away_powerPlayPercentage</th>\n",
       "      <th>away_faceOffWinPercentage</th>\n",
       "      <th>away_blocked</th>\n",
       "      <th>away_takeaways</th>\n",
       "      <th>away_giveaways</th>\n",
       "      <th>away_hits</th>\n",
       "      <th>totalGoals</th>\n",
       "    </tr>\n",
       "  </thead>\n",
       "  <tbody>\n",
       "    <tr>\n",
       "      <th>2</th>\n",
       "      <td>10</td>\n",
       "      <td>29</td>\n",
       "      <td>0.0</td>\n",
       "      <td>68.2</td>\n",
       "      <td>17</td>\n",
       "      <td>5</td>\n",
       "      <td>2</td>\n",
       "      <td>23</td>\n",
       "      <td>12</td>\n",
       "      <td>15</td>\n",
       "      <td>33.3</td>\n",
       "      <td>31.8</td>\n",
       "      <td>8</td>\n",
       "      <td>6</td>\n",
       "      <td>4</td>\n",
       "      <td>23</td>\n",
       "      <td>6</td>\n",
       "    </tr>\n",
       "    <tr>\n",
       "      <th>5</th>\n",
       "      <td>10</td>\n",
       "      <td>27</td>\n",
       "      <td>0.0</td>\n",
       "      <td>51.6</td>\n",
       "      <td>13</td>\n",
       "      <td>8</td>\n",
       "      <td>16</td>\n",
       "      <td>45</td>\n",
       "      <td>4</td>\n",
       "      <td>40</td>\n",
       "      <td>40.0</td>\n",
       "      <td>48.4</td>\n",
       "      <td>4</td>\n",
       "      <td>3</td>\n",
       "      <td>9</td>\n",
       "      <td>22</td>\n",
       "      <td>4</td>\n",
       "    </tr>\n",
       "    <tr>\n",
       "      <th>9</th>\n",
       "      <td>4</td>\n",
       "      <td>41</td>\n",
       "      <td>50.0</td>\n",
       "      <td>41.4</td>\n",
       "      <td>18</td>\n",
       "      <td>4</td>\n",
       "      <td>10</td>\n",
       "      <td>24</td>\n",
       "      <td>4</td>\n",
       "      <td>15</td>\n",
       "      <td>50.0</td>\n",
       "      <td>58.6</td>\n",
       "      <td>11</td>\n",
       "      <td>4</td>\n",
       "      <td>9</td>\n",
       "      <td>13</td>\n",
       "      <td>7</td>\n",
       "    </tr>\n",
       "    <tr>\n",
       "      <th>10</th>\n",
       "      <td>2</td>\n",
       "      <td>46</td>\n",
       "      <td>50.0</td>\n",
       "      <td>45.6</td>\n",
       "      <td>9</td>\n",
       "      <td>8</td>\n",
       "      <td>12</td>\n",
       "      <td>29</td>\n",
       "      <td>6</td>\n",
       "      <td>39</td>\n",
       "      <td>0.0</td>\n",
       "      <td>54.4</td>\n",
       "      <td>13</td>\n",
       "      <td>6</td>\n",
       "      <td>6</td>\n",
       "      <td>20</td>\n",
       "      <td>7</td>\n",
       "    </tr>\n",
       "    <tr>\n",
       "      <th>11</th>\n",
       "      <td>2</td>\n",
       "      <td>24</td>\n",
       "      <td>66.7</td>\n",
       "      <td>57.1</td>\n",
       "      <td>7</td>\n",
       "      <td>3</td>\n",
       "      <td>19</td>\n",
       "      <td>23</td>\n",
       "      <td>6</td>\n",
       "      <td>34</td>\n",
       "      <td>0.0</td>\n",
       "      <td>42.9</td>\n",
       "      <td>15</td>\n",
       "      <td>9</td>\n",
       "      <td>9</td>\n",
       "      <td>15</td>\n",
       "      <td>5</td>\n",
       "    </tr>\n",
       "    <tr>\n",
       "      <th>...</th>\n",
       "      <td>...</td>\n",
       "      <td>...</td>\n",
       "      <td>...</td>\n",
       "      <td>...</td>\n",
       "      <td>...</td>\n",
       "      <td>...</td>\n",
       "      <td>...</td>\n",
       "      <td>...</td>\n",
       "      <td>...</td>\n",
       "      <td>...</td>\n",
       "      <td>...</td>\n",
       "      <td>...</td>\n",
       "      <td>...</td>\n",
       "      <td>...</td>\n",
       "      <td>...</td>\n",
       "      <td>...</td>\n",
       "      <td>...</td>\n",
       "    </tr>\n",
       "    <tr>\n",
       "      <th>21383</th>\n",
       "      <td>4</td>\n",
       "      <td>32</td>\n",
       "      <td>0.0</td>\n",
       "      <td>52.6</td>\n",
       "      <td>15</td>\n",
       "      <td>5</td>\n",
       "      <td>9</td>\n",
       "      <td>29</td>\n",
       "      <td>8</td>\n",
       "      <td>19</td>\n",
       "      <td>0.0</td>\n",
       "      <td>47.4</td>\n",
       "      <td>23</td>\n",
       "      <td>6</td>\n",
       "      <td>7</td>\n",
       "      <td>33</td>\n",
       "      <td>4</td>\n",
       "    </tr>\n",
       "    <tr>\n",
       "      <th>21384</th>\n",
       "      <td>4</td>\n",
       "      <td>23</td>\n",
       "      <td>0.0</td>\n",
       "      <td>43.9</td>\n",
       "      <td>23</td>\n",
       "      <td>14</td>\n",
       "      <td>19</td>\n",
       "      <td>20</td>\n",
       "      <td>6</td>\n",
       "      <td>24</td>\n",
       "      <td>50.0</td>\n",
       "      <td>56.1</td>\n",
       "      <td>17</td>\n",
       "      <td>8</td>\n",
       "      <td>7</td>\n",
       "      <td>13</td>\n",
       "      <td>3</td>\n",
       "    </tr>\n",
       "    <tr>\n",
       "      <th>21386</th>\n",
       "      <td>9</td>\n",
       "      <td>32</td>\n",
       "      <td>0.0</td>\n",
       "      <td>63.6</td>\n",
       "      <td>13</td>\n",
       "      <td>4</td>\n",
       "      <td>12</td>\n",
       "      <td>27</td>\n",
       "      <td>9</td>\n",
       "      <td>37</td>\n",
       "      <td>0.0</td>\n",
       "      <td>36.4</td>\n",
       "      <td>17</td>\n",
       "      <td>7</td>\n",
       "      <td>10</td>\n",
       "      <td>27</td>\n",
       "      <td>7</td>\n",
       "    </tr>\n",
       "    <tr>\n",
       "      <th>21390</th>\n",
       "      <td>4</td>\n",
       "      <td>37</td>\n",
       "      <td>75.0</td>\n",
       "      <td>49.0</td>\n",
       "      <td>6</td>\n",
       "      <td>3</td>\n",
       "      <td>11</td>\n",
       "      <td>9</td>\n",
       "      <td>8</td>\n",
       "      <td>21</td>\n",
       "      <td>0.0</td>\n",
       "      <td>51.0</td>\n",
       "      <td>10</td>\n",
       "      <td>3</td>\n",
       "      <td>2</td>\n",
       "      <td>17</td>\n",
       "      <td>5</td>\n",
       "    </tr>\n",
       "    <tr>\n",
       "      <th>21391</th>\n",
       "      <td>18</td>\n",
       "      <td>33</td>\n",
       "      <td>0.0</td>\n",
       "      <td>50.0</td>\n",
       "      <td>17</td>\n",
       "      <td>7</td>\n",
       "      <td>14</td>\n",
       "      <td>31</td>\n",
       "      <td>12</td>\n",
       "      <td>31</td>\n",
       "      <td>0.0</td>\n",
       "      <td>50.0</td>\n",
       "      <td>14</td>\n",
       "      <td>3</td>\n",
       "      <td>3</td>\n",
       "      <td>22</td>\n",
       "      <td>1</td>\n",
       "    </tr>\n",
       "  </tbody>\n",
       "</table>\n",
       "<p>12459 rows × 17 columns</p>\n",
       "</div>"
      ],
      "text/plain": [
       "       home_pim  home_shots  home_powerPlayPercentage  \\\n",
       "2            10          29                       0.0   \n",
       "5            10          27                       0.0   \n",
       "9             4          41                      50.0   \n",
       "10            2          46                      50.0   \n",
       "11            2          24                      66.7   \n",
       "...         ...         ...                       ...   \n",
       "21383         4          32                       0.0   \n",
       "21384         4          23                       0.0   \n",
       "21386         9          32                       0.0   \n",
       "21390         4          37                      75.0   \n",
       "21391        18          33                       0.0   \n",
       "\n",
       "       home_faceOffWinPercentage  home_blocked  home_takeaways  \\\n",
       "2                           68.2            17               5   \n",
       "5                           51.6            13               8   \n",
       "9                           41.4            18               4   \n",
       "10                          45.6             9               8   \n",
       "11                          57.1             7               3   \n",
       "...                          ...           ...             ...   \n",
       "21383                       52.6            15               5   \n",
       "21384                       43.9            23              14   \n",
       "21386                       63.6            13               4   \n",
       "21390                       49.0             6               3   \n",
       "21391                       50.0            17               7   \n",
       "\n",
       "       home_giveaways  home_hits  away_pim  away_shots  \\\n",
       "2                   2         23        12          15   \n",
       "5                  16         45         4          40   \n",
       "9                  10         24         4          15   \n",
       "10                 12         29         6          39   \n",
       "11                 19         23         6          34   \n",
       "...               ...        ...       ...         ...   \n",
       "21383               9         29         8          19   \n",
       "21384              19         20         6          24   \n",
       "21386              12         27         9          37   \n",
       "21390              11          9         8          21   \n",
       "21391              14         31        12          31   \n",
       "\n",
       "       away_powerPlayPercentage  away_faceOffWinPercentage  away_blocked  \\\n",
       "2                          33.3                       31.8             8   \n",
       "5                          40.0                       48.4             4   \n",
       "9                          50.0                       58.6            11   \n",
       "10                          0.0                       54.4            13   \n",
       "11                          0.0                       42.9            15   \n",
       "...                         ...                        ...           ...   \n",
       "21383                       0.0                       47.4            23   \n",
       "21384                      50.0                       56.1            17   \n",
       "21386                       0.0                       36.4            17   \n",
       "21390                       0.0                       51.0            10   \n",
       "21391                       0.0                       50.0            14   \n",
       "\n",
       "       away_takeaways  away_giveaways  away_hits  totalGoals  \n",
       "2                   6               4         23           6  \n",
       "5                   3               9         22           4  \n",
       "9                   4               9         13           7  \n",
       "10                  6               6         20           7  \n",
       "11                  9               9         15           5  \n",
       "...               ...             ...        ...         ...  \n",
       "21383               6               7         33           4  \n",
       "21384               8               7         13           3  \n",
       "21386               7              10         27           7  \n",
       "21390               3               2         17           5  \n",
       "21391               3               3         22           1  \n",
       "\n",
       "[12459 rows x 17 columns]"
      ]
     },
     "execution_count": 197,
     "metadata": {},
     "output_type": "execute_result"
    }
   ],
   "source": [
    "col_names = [col for col in game_stats.columns]\n",
    "\n",
    "\n",
    "originalGoals = game_stats[\"totalGoals\"]\n",
    "\n",
    "# z = (x-mean)/std\n",
    "# x = (z*std)+mean\n",
    "\n",
    "original_mean = game_stats.mean()\n",
    "original_std = game_stats.std()\n",
    "\n",
    "# game_stats_normalized =(game_stats-original_mean)/original_std\n",
    "# game_stats = game_stats_normalized\n",
    "# game_stats[\"totalGoals\"] = originalGoals\n",
    "\n",
    "features = np.array(game_stats.loc[:, game_stats.columns != 'totalGoals'],  dtype='float32')\n",
    "\n",
    "# add bias column to features\n",
    "features = np.insert(features, 0, 1, axis=1)\n",
    "\n",
    "\n",
    "targets = np.array(game_stats['totalGoals'], dtype='float32')\n",
    "\n",
    "\n",
    "x_train = features[:int(features.shape[0] * 0.9)]\n",
    "t_train = targets[:int(targets.shape[0] * 0.9)]\n",
    "\n",
    "x_test = features[int(features.shape[0] * 0.9):]\n",
    "t_test = targets[int(targets.shape[0] * 0.9):]\n",
    "\n",
    "game_stats"
   ]
  },
  {
   "cell_type": "code",
   "execution_count": 198,
   "metadata": {},
   "outputs": [
    {
     "data": {
      "text/plain": [
       "(12459, 17)"
      ]
     },
     "execution_count": 198,
     "metadata": {},
     "output_type": "execute_result"
    }
   ],
   "source": [
    "features.shape"
   ]
  },
  {
   "cell_type": "markdown",
   "metadata": {},
   "source": [
    "### Define Closed Form Linear Regression"
   ]
  },
  {
   "cell_type": "code",
   "execution_count": 199,
   "metadata": {},
   "outputs": [],
   "source": [
    "def cf_lin_reg(X : np.array, t : np.array) -> np.array:\n",
    "    '''\n",
    "    cf_lin_reg:\n",
    "        - Closed form solution for linear regression\n",
    "\n",
    "    Params:\n",
    "        - X: numpy array of features w/ shape (d, M)\n",
    "        - t: numpy array of targets w/ shape (d, 1)\n",
    "        \n",
    "    Returns:\n",
    "        - w_hat: numpy array of optimal weights w/ shape (M, 1)\n",
    "    '''\n",
    "    X_trans = X.transpose()\n",
    "    w_hat = inv(X_trans.dot(X)).dot(X_trans).dot(t)\n",
    "    return w_hat"
   ]
  },
  {
   "cell_type": "markdown",
   "metadata": {},
   "source": [
    "### Compute optimal weights for training data"
   ]
  },
  {
   "cell_type": "code",
   "execution_count": 200,
   "metadata": {},
   "outputs": [
    {
     "data": {
      "text/plain": [
       "array([ 3.6414149 ,  0.01092492,  0.0344487 ,  0.02041046, -0.00741694,\n",
       "       -0.01613406,  0.00639718,  0.00368401, -0.0080036 ,  0.01458359,\n",
       "        0.03601862,  0.01962176, -0.00692485, -0.02878509,  0.01458864,\n",
       "        0.01077772, -0.00566552], dtype=float32)"
      ]
     },
     "execution_count": 200,
     "metadata": {},
     "output_type": "execute_result"
    }
   ],
   "source": [
    "w_hat = cf_lin_reg(x_train, t_train)\n",
    "w_hat"
   ]
  },
  {
   "cell_type": "markdown",
   "metadata": {},
   "source": [
    "### Define Prediction"
   ]
  },
  {
   "cell_type": "code",
   "execution_count": 201,
   "metadata": {},
   "outputs": [],
   "source": [
    "def predict(X : np.array, w : np.array) -> np.array:\n",
    "    '''\n",
    "    predict:\n",
    "        - Predicts targets using given weights\n",
    "\n",
    "    Params:\n",
    "        - X: numpy array of features w/ shape (d, M)\n",
    "        - w: numpy array of weights w/ shape (M, 1)\n",
    "        \n",
    "    Returns:\n",
    "        - t_hat: numpy array of predicted targets w/ shape (d, 1)\n",
    "    '''\n",
    "    t_hat = X.dot(w)\n",
    "    return t_hat"
   ]
  },
  {
   "cell_type": "markdown",
   "metadata": {},
   "source": [
    "### Make predictions (t_hat), plot both predictions and true targets"
   ]
  },
  {
   "cell_type": "code",
   "execution_count": 202,
   "metadata": {},
   "outputs": [
    {
     "data": {
      "text/plain": [
       "[<matplotlib.lines.Line2D at 0x7fef0c9059d0>]"
      ]
     },
     "execution_count": 202,
     "metadata": {},
     "output_type": "execute_result"
    },
    {
     "data": {
      "image/png": "[encoded data removed]",
      "text/plain": [
       "<Figure size 576x144 with 1 Axes>"
      ]
     },
     "metadata": {
      "needs_background": "light"
     },
     "output_type": "display_data"
    }
   ],
   "source": [
    "t_hat = predict(x_train, w_hat)\n",
    "\n",
    "# denormalize\n",
    "# t_hat = [(ti * original_std[\"totalGoals\"]) + original_mean[\"totalGoals\"] for ti in t_hat]\n",
    "# targets = [(ti * original_std[\"totalGoals\"]) + original_mean[\"totalGoals\"] for ti in targets]\n",
    "# t_train = [(ti * original_std[\"totalGoals\"]) + original_mean[\"totalGoals\"] for ti in t_train]\n",
    "\n",
    "\n",
    "plt.rcParams[\"figure.figsize\"] = (8, 2)\n",
    "plt.plot(t_hat)"
   ]
  },
  {
   "cell_type": "code",
   "execution_count": 203,
   "metadata": {},
   "outputs": [
    {
     "data": {
      "text/plain": [
       "[<matplotlib.lines.Line2D at 0x7fef0785d760>]"
      ]
     },
     "execution_count": 203,
     "metadata": {},
     "output_type": "execute_result"
    },
    {
     "data": {
      "image/png": "[encoded data removed]",
      "text/plain": [
       "<Figure size 576x144 with 1 Axes>"
      ]
     },
     "metadata": {
      "needs_background": "light"
     },
     "output_type": "display_data"
    }
   ],
   "source": [
    "plt.plot(t_train)"
   ]
  },
  {
   "cell_type": "markdown",
   "metadata": {},
   "source": [
    "### Plot prediction and true target distributions"
   ]
  },
  {
   "cell_type": "code",
   "execution_count": 204,
   "metadata": {},
   "outputs": [
    {
     "data": {
      "image/png": "[encoded data removed]",
      "text/plain": [
       "<Figure size 576x144 with 2 Axes>"
      ]
     },
     "metadata": {
      "needs_background": "light"
     },
     "output_type": "display_data"
    }
   ],
   "source": [
    "pred_and_targets_df = pd.DataFrame({f'Prediction FTS Distribution (n={len(t_train)})': t_hat, f'Target FTS Distribution (n={len(t_train)})': t_train})\n",
    "plt.rcParams[\"font.size\"] = 8\n",
    "s = pred_and_targets_df.hist()\n",
    "for ax in s.flatten():\n",
    "    ax.set_xlabel(\"FTS\")\n",
    "    ax.set_ylabel(\"Frequency\")"
   ]
  },
  {
   "cell_type": "code",
   "execution_count": 205,
   "metadata": {},
   "outputs": [
    {
     "name": "stdout",
     "output_type": "stream",
     "text": [
      "MSE: 3.2855224609375\n",
      "RMSE: 1.8126009702682495\n",
      "Prediction Mean: 5.307880878448486\n",
      "Target Mean: 5.307767868041992\n",
      "Prediction Std: 0.8266466856002808\n",
      "Target Std: 1.992201328277588\n"
     ]
    }
   ],
   "source": [
    "print(f\"MSE: {np.mean((t_hat - t_train)**2)}\")\n",
    "print(f\"RMSE: {np.sqrt(np.mean((t_hat - t_train)**2))}\")\n",
    "print(f\"Prediction Mean: {np.mean(t_hat)}\")\n",
    "print(f\"Target Mean: {np.mean(t_train)}\")\n",
    "print(f\"Prediction Std: {np.std(t_hat)}\")\n",
    "print(f\"Target Std: {np.std(t_train)}\")"
   ]
  },
  {
   "cell_type": "code",
   "execution_count": 206,
   "metadata": {},
   "outputs": [
    {
     "name": "stdout",
     "output_type": "stream",
     "text": [
      "t-stat: 0.006619510745825149\n",
      "p-value: 0.9947185509151466\n"
     ]
    }
   ],
   "source": [
    "# t-test between t_hat and t_train\n",
    "from scipy import stats\n",
    "\n",
    "t_stat, p_value = stats.ttest_rel(t_hat, t_train)\n",
    "print(f\"t-stat: {t_stat}\")\n",
    "print(f\"p-value: {p_value}\")"
   ]
  },
  {
   "cell_type": "markdown",
   "metadata": {},
   "source": [
    "### Analyze 'Training' Loss of Closed Form Solution"
   ]
  },
  {
   "cell_type": "code",
   "execution_count": 207,
   "metadata": {},
   "outputs": [],
   "source": [
    "def avg_loss(X : np.array, t : np.array, w : np.array) -> float:\n",
    "    '''\n",
    "    avg_loss:\n",
    "        - Average loss of predictions\n",
    "\n",
    "    Params:\n",
    "        - X: numpy array of features w/ shape (d, M)\n",
    "        - t: numpy array of targets w/ shape (d, 1)\n",
    "        - w: numpy array of weights w/ shape (M, 1)\n",
    "        \n",
    "    Returns:\n",
    "        - avg_loss: float\n",
    "    '''\n",
    "    t_hat = predict(X, w)\n",
    "    \n",
    "    losses = [(pred - target) ** 2 for pred, target in zip(t_hat, t)]\n",
    "    avg_loss = np.sum(losses) / len(losses)\n",
    "    \n",
    "    return losses, avg_loss"
   ]
  },
  {
   "cell_type": "code",
   "execution_count": 208,
   "metadata": {},
   "outputs": [
    {
     "name": "stdout",
     "output_type": "stream",
     "text": [
      "------- Squared Error Loss -------\n",
      "Average loss: 3.285522476374441\n",
      "Min loss: 2.7853275241795927e-08\n",
      "Max loss: 32.43815418741747\n",
      "\n",
      "------- Absolute Error -------\n",
      "Average loss: 1.8126010251498925\n",
      "Min loss: 0.00016689300537109375\n",
      "Max loss: 5.695450305938721\n"
     ]
    }
   ],
   "source": [
    "losses, average_loss = avg_loss(x_train, t_train, w_hat)\n",
    "abs_losses = [math.sqrt(loss) for loss in losses]\n",
    "min_loss = min(losses)\n",
    "max_loss = max(losses)\n",
    "\n",
    "print(\"------- Squared Error Loss -------\")\n",
    "print(f\"Average loss: {average_loss}\")\n",
    "print(f\"Min loss: {min_loss}\")\n",
    "print(f\"Max loss: {max_loss}\\n\")\n",
    "\n",
    "print(\"------- Absolute Error -------\")\n",
    "print(f\"Average loss: {math.sqrt(average_loss)}\")\n",
    "print(f\"Min loss: {math.sqrt(min_loss)}\")\n",
    "print(f\"Max loss: {math.sqrt(max_loss)}\")"
   ]
  },
  {
   "cell_type": "markdown",
   "metadata": {},
   "source": [
    "### Absolute Loss Distribution of 'Training' loss"
   ]
  },
  {
   "cell_type": "code",
   "execution_count": 209,
   "metadata": {},
   "outputs": [
    {
     "data": {
      "text/plain": [
       "<AxesSubplot:title={'center':'Absolute Error Distribution'}>"
      ]
     },
     "execution_count": 209,
     "metadata": {},
     "output_type": "execute_result"
    },
    {
     "data": {
      "image/png": "[encoded data removed]",
      "text/plain": [
       "<Figure size 576x144 with 1 Axes>"
      ]
     },
     "metadata": {
      "needs_background": "light"
     },
     "output_type": "display_data"
    }
   ],
   "source": [
    "losses_df = pd.DataFrame()\n",
    "losses_df[\"loss\"] = abs_losses\n",
    "plt.title(\"Absolute Error Distribution\")\n",
    "losses_df[\"loss\"].hist()"
   ]
  },
  {
   "cell_type": "markdown",
   "metadata": {},
   "source": [
    "### Explore Performance on Unseen Data"
   ]
  },
  {
   "cell_type": "code",
   "execution_count": 210,
   "metadata": {},
   "outputs": [
    {
     "name": "stdout",
     "output_type": "stream",
     "text": [
      "------- Squared Error Loss -------\n",
      "Average loss: 3.1850357568548695\n",
      "Min loss: 2.091630676659406e-06\n",
      "Max loss: 30.41147886882777\n",
      "\n",
      "------- Absolute Error -------\n",
      "Average loss: 1.7846668475810463\n",
      "Min loss: 0.0014462471008300781\n",
      "Max loss: 5.514660358428955\n"
     ]
    }
   ],
   "source": [
    "losses, average_loss = avg_loss(x_test, t_test, w_hat)\n",
    "abs_losses = [math.sqrt(loss) for loss in losses]\n",
    "min_loss = min(losses)\n",
    "max_loss = max(losses)\n",
    "\n",
    "print(\"------- Squared Error Loss -------\")\n",
    "print(f\"Average loss: {average_loss}\")\n",
    "print(f\"Min loss: {min_loss}\")\n",
    "print(f\"Max loss: {max_loss}\\n\")\n",
    "\n",
    "print(\"------- Absolute Error -------\")\n",
    "print(f\"Average loss: {math.sqrt(average_loss)}\")\n",
    "print(f\"Min loss: {math.sqrt(min_loss)}\")\n",
    "print(f\"Max loss: {math.sqrt(max_loss)}\")"
   ]
  },
  {
   "cell_type": "code",
   "execution_count": 211,
   "metadata": {},
   "outputs": [
    {
     "data": {
      "text/plain": [
       "[<matplotlib.lines.Line2D at 0x7fef0e27e8b0>]"
      ]
     },
     "execution_count": 211,
     "metadata": {},
     "output_type": "execute_result"
    },
    {
     "data": {
      "image/png": "[encoded data removed]",
      "text/plain": [
       "<Figure size 576x144 with 1 Axes>"
      ]
     },
     "metadata": {
      "needs_background": "light"
     },
     "output_type": "display_data"
    }
   ],
   "source": [
    "t_hat = predict(x_test, w_hat)\n",
    "plt.plot(t_hat)"
   ]
  },
  {
   "cell_type": "code",
   "execution_count": 212,
   "metadata": {},
   "outputs": [
    {
     "data": {
      "text/plain": [
       "[<matplotlib.lines.Line2D at 0x7fef0e0ebb20>]"
      ]
     },
     "execution_count": 212,
     "metadata": {},
     "output_type": "execute_result"
    },
    {
     "data": {
      "image/png": "[encoded data removed]",
      "text/plain": [
       "<Figure size 576x144 with 1 Axes>"
      ]
     },
     "metadata": {
      "needs_background": "light"
     },
     "output_type": "display_data"
    }
   ],
   "source": [
    "plt.plot(t_test)"
   ]
  },
  {
   "cell_type": "code",
   "execution_count": 221,
   "metadata": {},
   "outputs": [
    {
     "data": {
      "image/png": "[encoded data removed]",
      "text/plain": [
       "<Figure size 576x144 with 2 Axes>"
      ]
     },
     "metadata": {
      "needs_background": "light"
     },
     "output_type": "display_data"
    }
   ],
   "source": [
    "# denormalize t_hat and t_test\n",
    "# t_hat = [(ti * original_std[\"totalGoals\"]) + original_mean[\"totalGoals\"] for ti in t_hat]\n",
    "# t_test = [(ti * original_std[\"totalGoals\"]) + original_mean[\"totalGoals\"] for ti in t_test]\n",
    "\n",
    "pred_and_targets_df = pd.DataFrame({f'Prediction FTS Distribution (n={len(t_hat)})': t_hat, f'Target FTS Distribution (n={len(t_hat)})': t_test})\n",
    "s = pred_and_targets_df.hist()\n",
    "for ax in s.flatten():\n",
    "    ax.set_xlabel(\"FTS\")\n",
    "    ax.set_ylabel(\"Frequency\")\n"
   ]
  },
  {
   "cell_type": "code",
   "execution_count": 218,
   "metadata": {},
   "outputs": [
    {
     "data": {
      "text/plain": [
       "<AxesSubplot:title={'center':'Absolute Error Distribution (n=1246)'}, xlabel='Absolute Error (Goals)', ylabel='Frequency'>"
      ]
     },
     "execution_count": 218,
     "metadata": {},
     "output_type": "execute_result"
    },
    {
     "data": {
      "image/png": "[encoded data removed]",
      "text/plain": [
       "<Figure size 576x144 with 1 Axes>"
      ]
     },
     "metadata": {
      "needs_background": "light"
     },
     "output_type": "display_data"
    }
   ],
   "source": [
    "losses_df = pd.DataFrame()\n",
    "losses_df[\"loss\"] = abs_losses\n",
    "plt.title(f\"Absolute Error Distribution (n={len(t_test)})\")\n",
    "plt.xlabel(\"Absolute Error (Goals)\")\n",
    "plt.ylabel(\"Frequency\")\n",
    "losses_df[\"loss\"].hist()\n"
   ]
  },
  {
   "cell_type": "code",
   "execution_count": 220,
   "metadata": {},
   "outputs": [
    {
     "name": "stdout",
     "output_type": "stream",
     "text": [
      "MSE: 3.1850357055664062\n",
      "RMSE: 1.7846667766571045\n",
      "Prediction Mean: 5.325050354003906\n",
      "Target Mean: 5.252006530761719\n",
      "Prediction Std: 0.8186290860176086\n",
      "Target Std: 1.9584099054336548\n"
     ]
    }
   ],
   "source": [
    "print(f\"MSE: {np.mean((t_hat - t_test)**2)}\")\n",
    "print(f\"RMSE: {np.sqrt(np.mean((t_hat - t_test)**2))}\")\n",
    "print(f\"Prediction Mean: {np.mean(t_hat)}\")\n",
    "print(f\"Target Mean: {np.mean(t_test)}\")\n",
    "print(f\"Prediction Std: {np.std(t_hat)}\")\n",
    "print(f\"Target Std: {np.std(t_test)}\")"
   ]
  },
  {
   "cell_type": "code",
   "execution_count": null,
   "metadata": {},
   "outputs": [],
   "source": []
  }
 ],
 "metadata": {
  "interpreter": {
   "hash": "0adcc2737ebf6a4a119f135174df96668767fca1ef1112612db5ecadf2b6d608"
  },
  "kernelspec": {
   "display_name": "Python 3.8.5 64-bit",
   "language": "python",
   "name": "python3"
  },
  "language_info": {
   "codemirror_mode": {
    "name": "ipython",
    "version": 3
   },
   "file_extension": ".py",
   "mimetype": "text/x-python",
   "name": "python",
   "nbconvert_exporter": "python",
   "pygments_lexer": "ipython3",
   "version": "3.8.5"
  },
  "orig_nbformat": 4
 },
 "nbformat": 4,
 "nbformat_minor": 2
}
