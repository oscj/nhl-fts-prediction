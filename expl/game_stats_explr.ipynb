{
 "cells": [
  {
   "cell_type": "code",
   "execution_count": 2,
   "metadata": {},
   "outputs": [],
   "source": [
    "import pandas as pd\n",
    "import numpy as np\n",
    "import matplotlib.pyplot as plt"
   ]
  },
  {
   "cell_type": "code",
   "execution_count": 3,
   "metadata": {},
   "outputs": [
    {
     "data": {
      "text/html": [
       "<div>\n",
       "<style scoped>\n",
       "    .dataframe tbody tr th:only-of-type {\n",
       "        vertical-align: middle;\n",
       "    }\n",
       "\n",
       "    .dataframe tbody tr th {\n",
       "        vertical-align: top;\n",
       "    }\n",
       "\n",
       "    .dataframe thead th {\n",
       "        text-align: right;\n",
       "    }\n",
       "</style>\n",
       "<table border=\"1\" class=\"dataframe\">\n",
       "  <thead>\n",
       "    <tr style=\"text-align: right;\">\n",
       "      <th></th>\n",
       "      <th>Unnamed: 0</th>\n",
       "      <th>home_pim</th>\n",
       "      <th>home_shots</th>\n",
       "      <th>home_powerPlayPercentage</th>\n",
       "      <th>home_faceOffWinPercentage</th>\n",
       "      <th>home_blocked</th>\n",
       "      <th>home_takeaways</th>\n",
       "      <th>home_giveaways</th>\n",
       "      <th>home_hits</th>\n",
       "      <th>away_pim</th>\n",
       "      <th>away_shots</th>\n",
       "      <th>away_powerPlayPercentage</th>\n",
       "      <th>away_faceOffWinPercentage</th>\n",
       "      <th>away_blocked</th>\n",
       "      <th>away_takeaways</th>\n",
       "      <th>away_giveaways</th>\n",
       "      <th>away_hits</th>\n",
       "      <th>totalGoals</th>\n",
       "    </tr>\n",
       "  </thead>\n",
       "  <tbody>\n",
       "    <tr>\n",
       "      <th>0</th>\n",
       "      <td>0</td>\n",
       "      <td>10</td>\n",
       "      <td>29</td>\n",
       "      <td>0.0</td>\n",
       "      <td>68.2</td>\n",
       "      <td>17</td>\n",
       "      <td>5</td>\n",
       "      <td>2</td>\n",
       "      <td>23</td>\n",
       "      <td>12</td>\n",
       "      <td>15</td>\n",
       "      <td>33.3</td>\n",
       "      <td>31.8</td>\n",
       "      <td>8</td>\n",
       "      <td>6</td>\n",
       "      <td>4</td>\n",
       "      <td>23</td>\n",
       "      <td>6</td>\n",
       "    </tr>\n",
       "    <tr>\n",
       "      <th>1</th>\n",
       "      <td>1</td>\n",
       "      <td>10</td>\n",
       "      <td>27</td>\n",
       "      <td>0.0</td>\n",
       "      <td>51.6</td>\n",
       "      <td>13</td>\n",
       "      <td>8</td>\n",
       "      <td>16</td>\n",
       "      <td>45</td>\n",
       "      <td>4</td>\n",
       "      <td>40</td>\n",
       "      <td>40.0</td>\n",
       "      <td>48.4</td>\n",
       "      <td>4</td>\n",
       "      <td>3</td>\n",
       "      <td>9</td>\n",
       "      <td>22</td>\n",
       "      <td>4</td>\n",
       "    </tr>\n",
       "    <tr>\n",
       "      <th>2</th>\n",
       "      <td>2</td>\n",
       "      <td>4</td>\n",
       "      <td>41</td>\n",
       "      <td>50.0</td>\n",
       "      <td>41.4</td>\n",
       "      <td>18</td>\n",
       "      <td>4</td>\n",
       "      <td>10</td>\n",
       "      <td>24</td>\n",
       "      <td>4</td>\n",
       "      <td>15</td>\n",
       "      <td>50.0</td>\n",
       "      <td>58.6</td>\n",
       "      <td>11</td>\n",
       "      <td>4</td>\n",
       "      <td>9</td>\n",
       "      <td>13</td>\n",
       "      <td>7</td>\n",
       "    </tr>\n",
       "    <tr>\n",
       "      <th>3</th>\n",
       "      <td>3</td>\n",
       "      <td>2</td>\n",
       "      <td>46</td>\n",
       "      <td>50.0</td>\n",
       "      <td>45.6</td>\n",
       "      <td>9</td>\n",
       "      <td>8</td>\n",
       "      <td>12</td>\n",
       "      <td>29</td>\n",
       "      <td>6</td>\n",
       "      <td>39</td>\n",
       "      <td>0.0</td>\n",
       "      <td>54.4</td>\n",
       "      <td>13</td>\n",
       "      <td>6</td>\n",
       "      <td>6</td>\n",
       "      <td>20</td>\n",
       "      <td>7</td>\n",
       "    </tr>\n",
       "    <tr>\n",
       "      <th>4</th>\n",
       "      <td>4</td>\n",
       "      <td>2</td>\n",
       "      <td>24</td>\n",
       "      <td>66.7</td>\n",
       "      <td>57.1</td>\n",
       "      <td>7</td>\n",
       "      <td>3</td>\n",
       "      <td>19</td>\n",
       "      <td>23</td>\n",
       "      <td>6</td>\n",
       "      <td>34</td>\n",
       "      <td>0.0</td>\n",
       "      <td>42.9</td>\n",
       "      <td>15</td>\n",
       "      <td>9</td>\n",
       "      <td>9</td>\n",
       "      <td>15</td>\n",
       "      <td>5</td>\n",
       "    </tr>\n",
       "    <tr>\n",
       "      <th>...</th>\n",
       "      <td>...</td>\n",
       "      <td>...</td>\n",
       "      <td>...</td>\n",
       "      <td>...</td>\n",
       "      <td>...</td>\n",
       "      <td>...</td>\n",
       "      <td>...</td>\n",
       "      <td>...</td>\n",
       "      <td>...</td>\n",
       "      <td>...</td>\n",
       "      <td>...</td>\n",
       "      <td>...</td>\n",
       "      <td>...</td>\n",
       "      <td>...</td>\n",
       "      <td>...</td>\n",
       "      <td>...</td>\n",
       "      <td>...</td>\n",
       "      <td>...</td>\n",
       "    </tr>\n",
       "    <tr>\n",
       "      <th>9496</th>\n",
       "      <td>9496</td>\n",
       "      <td>6</td>\n",
       "      <td>29</td>\n",
       "      <td>25.0</td>\n",
       "      <td>49.2</td>\n",
       "      <td>14</td>\n",
       "      <td>8</td>\n",
       "      <td>11</td>\n",
       "      <td>25</td>\n",
       "      <td>8</td>\n",
       "      <td>34</td>\n",
       "      <td>0.0</td>\n",
       "      <td>50.8</td>\n",
       "      <td>9</td>\n",
       "      <td>10</td>\n",
       "      <td>15</td>\n",
       "      <td>29</td>\n",
       "      <td>3</td>\n",
       "    </tr>\n",
       "    <tr>\n",
       "      <th>9497</th>\n",
       "      <td>9497</td>\n",
       "      <td>4</td>\n",
       "      <td>32</td>\n",
       "      <td>0.0</td>\n",
       "      <td>52.6</td>\n",
       "      <td>15</td>\n",
       "      <td>5</td>\n",
       "      <td>9</td>\n",
       "      <td>29</td>\n",
       "      <td>8</td>\n",
       "      <td>19</td>\n",
       "      <td>0.0</td>\n",
       "      <td>47.4</td>\n",
       "      <td>23</td>\n",
       "      <td>6</td>\n",
       "      <td>7</td>\n",
       "      <td>33</td>\n",
       "      <td>4</td>\n",
       "    </tr>\n",
       "    <tr>\n",
       "      <th>9498</th>\n",
       "      <td>9498</td>\n",
       "      <td>4</td>\n",
       "      <td>23</td>\n",
       "      <td>0.0</td>\n",
       "      <td>43.9</td>\n",
       "      <td>23</td>\n",
       "      <td>14</td>\n",
       "      <td>19</td>\n",
       "      <td>20</td>\n",
       "      <td>6</td>\n",
       "      <td>24</td>\n",
       "      <td>50.0</td>\n",
       "      <td>56.1</td>\n",
       "      <td>17</td>\n",
       "      <td>8</td>\n",
       "      <td>7</td>\n",
       "      <td>13</td>\n",
       "      <td>3</td>\n",
       "    </tr>\n",
       "    <tr>\n",
       "      <th>9499</th>\n",
       "      <td>9499</td>\n",
       "      <td>9</td>\n",
       "      <td>32</td>\n",
       "      <td>0.0</td>\n",
       "      <td>63.6</td>\n",
       "      <td>13</td>\n",
       "      <td>4</td>\n",
       "      <td>12</td>\n",
       "      <td>27</td>\n",
       "      <td>9</td>\n",
       "      <td>37</td>\n",
       "      <td>0.0</td>\n",
       "      <td>36.4</td>\n",
       "      <td>17</td>\n",
       "      <td>7</td>\n",
       "      <td>10</td>\n",
       "      <td>27</td>\n",
       "      <td>7</td>\n",
       "    </tr>\n",
       "    <tr>\n",
       "      <th>9500</th>\n",
       "      <td>9500</td>\n",
       "      <td>18</td>\n",
       "      <td>33</td>\n",
       "      <td>0.0</td>\n",
       "      <td>50.0</td>\n",
       "      <td>17</td>\n",
       "      <td>7</td>\n",
       "      <td>14</td>\n",
       "      <td>31</td>\n",
       "      <td>12</td>\n",
       "      <td>31</td>\n",
       "      <td>0.0</td>\n",
       "      <td>50.0</td>\n",
       "      <td>14</td>\n",
       "      <td>3</td>\n",
       "      <td>3</td>\n",
       "      <td>22</td>\n",
       "      <td>1</td>\n",
       "    </tr>\n",
       "  </tbody>\n",
       "</table>\n",
       "<p>9501 rows × 18 columns</p>\n",
       "</div>"
      ],
      "text/plain": [
       "      Unnamed: 0  home_pim  home_shots  home_powerPlayPercentage  \\\n",
       "0              0        10          29                       0.0   \n",
       "1              1        10          27                       0.0   \n",
       "2              2         4          41                      50.0   \n",
       "3              3         2          46                      50.0   \n",
       "4              4         2          24                      66.7   \n",
       "...          ...       ...         ...                       ...   \n",
       "9496        9496         6          29                      25.0   \n",
       "9497        9497         4          32                       0.0   \n",
       "9498        9498         4          23                       0.0   \n",
       "9499        9499         9          32                       0.0   \n",
       "9500        9500        18          33                       0.0   \n",
       "\n",
       "      home_faceOffWinPercentage  home_blocked  home_takeaways  home_giveaways  \\\n",
       "0                          68.2            17               5               2   \n",
       "1                          51.6            13               8              16   \n",
       "2                          41.4            18               4              10   \n",
       "3                          45.6             9               8              12   \n",
       "4                          57.1             7               3              19   \n",
       "...                         ...           ...             ...             ...   \n",
       "9496                       49.2            14               8              11   \n",
       "9497                       52.6            15               5               9   \n",
       "9498                       43.9            23              14              19   \n",
       "9499                       63.6            13               4              12   \n",
       "9500                       50.0            17               7              14   \n",
       "\n",
       "      home_hits  away_pim  away_shots  away_powerPlayPercentage  \\\n",
       "0            23        12          15                      33.3   \n",
       "1            45         4          40                      40.0   \n",
       "2            24         4          15                      50.0   \n",
       "3            29         6          39                       0.0   \n",
       "4            23         6          34                       0.0   \n",
       "...         ...       ...         ...                       ...   \n",
       "9496         25         8          34                       0.0   \n",
       "9497         29         8          19                       0.0   \n",
       "9498         20         6          24                      50.0   \n",
       "9499         27         9          37                       0.0   \n",
       "9500         31        12          31                       0.0   \n",
       "\n",
       "      away_faceOffWinPercentage  away_blocked  away_takeaways  away_giveaways  \\\n",
       "0                          31.8             8               6               4   \n",
       "1                          48.4             4               3               9   \n",
       "2                          58.6            11               4               9   \n",
       "3                          54.4            13               6               6   \n",
       "4                          42.9            15               9               9   \n",
       "...                         ...           ...             ...             ...   \n",
       "9496                       50.8             9              10              15   \n",
       "9497                       47.4            23               6               7   \n",
       "9498                       56.1            17               8               7   \n",
       "9499                       36.4            17               7              10   \n",
       "9500                       50.0            14               3               3   \n",
       "\n",
       "      away_hits  totalGoals  \n",
       "0            23           6  \n",
       "1            22           4  \n",
       "2            13           7  \n",
       "3            20           7  \n",
       "4            15           5  \n",
       "...         ...         ...  \n",
       "9496         29           3  \n",
       "9497         33           4  \n",
       "9498         13           3  \n",
       "9499         27           7  \n",
       "9500         22           1  \n",
       "\n",
       "[9501 rows x 18 columns]"
      ]
     },
     "execution_count": 3,
     "metadata": {},
     "output_type": "execute_result"
    }
   ],
   "source": [
    "game_stats = pd.read_csv('../csv/game_stats.csv')\n",
    "game_stats[\"totalGoals\"] = game_stats[\"home_goals\"] + game_stats[\"away_goals\"]\n",
    "del game_stats[\"home_goals\"]\n",
    "del game_stats[\"away_goals\"]\n",
    "del game_stats[\"home_powerPlayGoals\"]\n",
    "del game_stats[\"away_powerPlayGoals\"]\n",
    "del game_stats[\"home_powerPlayOpportunities\"]\n",
    "del game_stats[\"away_powerPlayOpportunities\"]\n",
    "\n",
    "game_stats"
   ]
  },
  {
   "cell_type": "code",
   "execution_count": 4,
   "metadata": {},
   "outputs": [],
   "source": [
    "correlations = game_stats[game_stats.columns[1:]].corr()['totalGoals'][:]\n",
    "lr_weights = np.array([c for c in correlations if c < 1.00])"
   ]
  },
  {
   "cell_type": "code",
   "execution_count": 5,
   "metadata": {},
   "outputs": [
    {
     "data": {
      "text/plain": [
       "<AxesSubplot:>"
      ]
     },
     "execution_count": 5,
     "metadata": {},
     "output_type": "execute_result"
    },
    {
     "data": {
      "image/png": "[encoded data removed]",
      "text/plain": [
       "<Figure size 432x288 with 1 Axes>"
      ]
     },
     "metadata": {
      "needs_background": "light"
     },
     "output_type": "display_data"
    }
   ],
   "source": [
    "plt.figure()\n",
    "game_stats[\"totalGoals\"].hist()"
   ]
  },
  {
   "cell_type": "code",
   "execution_count": 6,
   "metadata": {},
   "outputs": [
    {
     "data": {
      "text/plain": [
       "<AxesSubplot:>"
      ]
     },
     "execution_count": 6,
     "metadata": {},
     "output_type": "execute_result"
    },
    {
     "data": {
      "image/png": "[encoded data removed]",
      "text/plain": [
       "<Figure size 432x288 with 1 Axes>"
      ]
     },
     "metadata": {
      "needs_background": "light"
     },
     "output_type": "display_data"
    }
   ],
   "source": [
    "(game_stats[\"home_shots\"] + game_stats[\"away_shots\"]).hist()"
   ]
  },
  {
   "cell_type": "code",
   "execution_count": 7,
   "metadata": {},
   "outputs": [
    {
     "data": {
      "text/plain": [
       "<AxesSubplot:>"
      ]
     },
     "execution_count": 7,
     "metadata": {},
     "output_type": "execute_result"
    },
    {
     "data": {
      "image/png": "[encoded data removed]",
      "text/plain": [
       "<Figure size 432x288 with 1 Axes>"
      ]
     },
     "metadata": {
      "needs_background": "light"
     },
     "output_type": "display_data"
    }
   ],
   "source": [
    "(game_stats[\"home_hits\"] + game_stats[\"away_hits\"]).hist()"
   ]
  },
  {
   "cell_type": "code",
   "execution_count": 8,
   "metadata": {},
   "outputs": [],
   "source": [
    "game_stats[\"totalHits\"] = (game_stats[\"home_hits\"] + game_stats[\"away_hits\"])\n"
   ]
  },
  {
   "cell_type": "code",
   "execution_count": 9,
   "metadata": {},
   "outputs": [
    {
     "data": {
      "text/plain": [
       "<AxesSubplot:>"
      ]
     },
     "execution_count": 9,
     "metadata": {},
     "output_type": "execute_result"
    },
    {
     "data": {
      "image/png": "[encoded data removed]",
      "text/plain": [
       "<Figure size 432x288 with 1 Axes>"
      ]
     },
     "metadata": {
      "needs_background": "light"
     },
     "output_type": "display_data"
    }
   ],
   "source": [
    "game_stats[\"totalHits\"].hist()"
   ]
  },
  {
   "cell_type": "code",
   "execution_count": 10,
   "metadata": {},
   "outputs": [
    {
     "data": {
      "text/plain": [
       "<matplotlib.collections.PathCollection at 0x7f8a78ec61f0>"
      ]
     },
     "execution_count": 10,
     "metadata": {},
     "output_type": "execute_result"
    },
    {
     "data": {
      "image/png": "[encoded data removed]",
      "text/plain": [
       "<Figure size 432x288 with 1 Axes>"
      ]
     },
     "metadata": {
      "needs_background": "light"
     },
     "output_type": "display_data"
    }
   ],
   "source": [
    "game_stats[\"totalShots\"] = game_stats[\"home_shots\"] + game_stats[\"away_shots\"]\n",
    "plt.scatter(game_stats[\"totalShots\"], game_stats[\"totalGoals\"])"
   ]
  },
  {
   "cell_type": "code",
   "execution_count": 11,
   "metadata": {},
   "outputs": [
    {
     "data": {
      "text/plain": [
       "array([ 0.08949497,  0.13011655,  0.27449957,  0.00613371, -0.05228897,\n",
       "        0.03785528,  0.02259474, -0.05819319,  0.09065126,  0.1306554 ,\n",
       "        0.25492709,  0.00430434, -0.06177959,  0.03822497,  0.0288119 ,\n",
       "       -0.04682741,  1.        , -0.05992652,  0.18264848])"
      ]
     },
     "execution_count": 11,
     "metadata": {},
     "output_type": "execute_result"
    }
   ],
   "source": [
    "correlations = np.array(game_stats[game_stats.columns[1:]].corr()['totalGoals'][:])\n",
    "correlations"
   ]
  }
 ],
 "metadata": {
  "interpreter": {
   "hash": "0adcc2737ebf6a4a119f135174df96668767fca1ef1112612db5ecadf2b6d608"
  },
  "kernelspec": {
   "display_name": "Python 3",
   "language": "python",
   "name": "python3"
  },
  "language_info": {
   "codemirror_mode": {
    "name": "ipython",
    "version": 3
   },
   "file_extension": ".py",
   "mimetype": "text/x-python",
   "name": "python",
   "nbconvert_exporter": "python",
   "pygments_lexer": "ipython3",
   "version": "3.8.5"
  }
 },
 "nbformat": 4,
 "nbformat_minor": 2
}
