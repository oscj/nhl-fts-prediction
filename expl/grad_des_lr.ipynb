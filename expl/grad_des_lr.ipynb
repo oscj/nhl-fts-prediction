{
 "cells": [
  {
   "cell_type": "code",
   "execution_count": 183,
   "metadata": {},
   "outputs": [],
   "source": [
    "import pandas as pd\n",
    "import numpy as np\n",
    "import matplotlib.pyplot as plt\n",
    "import tqdm"
   ]
  },
  {
   "cell_type": "code",
   "execution_count": 184,
   "metadata": {},
   "outputs": [
    {
     "data": {
      "text/html": [
       "<div>\n",
       "<style scoped>\n",
       "    .dataframe tbody tr th:only-of-type {\n",
       "        vertical-align: middle;\n",
       "    }\n",
       "\n",
       "    .dataframe tbody tr th {\n",
       "        vertical-align: top;\n",
       "    }\n",
       "\n",
       "    .dataframe thead th {\n",
       "        text-align: right;\n",
       "    }\n",
       "</style>\n",
       "<table border=\"1\" class=\"dataframe\">\n",
       "  <thead>\n",
       "    <tr style=\"text-align: right;\">\n",
       "      <th></th>\n",
       "      <th>home_pim</th>\n",
       "      <th>home_shots</th>\n",
       "      <th>home_powerPlayPercentage</th>\n",
       "      <th>home_faceOffWinPercentage</th>\n",
       "      <th>home_blocked</th>\n",
       "      <th>home_takeaways</th>\n",
       "      <th>home_giveaways</th>\n",
       "      <th>home_hits</th>\n",
       "      <th>away_pim</th>\n",
       "      <th>away_shots</th>\n",
       "      <th>away_powerPlayPercentage</th>\n",
       "      <th>away_faceOffWinPercentage</th>\n",
       "      <th>away_blocked</th>\n",
       "      <th>away_takeaways</th>\n",
       "      <th>away_giveaways</th>\n",
       "      <th>away_hits</th>\n",
       "      <th>totalGoals</th>\n",
       "    </tr>\n",
       "  </thead>\n",
       "  <tbody>\n",
       "    <tr>\n",
       "      <th>2</th>\n",
       "      <td>10</td>\n",
       "      <td>29</td>\n",
       "      <td>0.0</td>\n",
       "      <td>68.2</td>\n",
       "      <td>17</td>\n",
       "      <td>5</td>\n",
       "      <td>2</td>\n",
       "      <td>23</td>\n",
       "      <td>12</td>\n",
       "      <td>15</td>\n",
       "      <td>33.3</td>\n",
       "      <td>31.8</td>\n",
       "      <td>8</td>\n",
       "      <td>6</td>\n",
       "      <td>4</td>\n",
       "      <td>23</td>\n",
       "      <td>6</td>\n",
       "    </tr>\n",
       "    <tr>\n",
       "      <th>5</th>\n",
       "      <td>10</td>\n",
       "      <td>27</td>\n",
       "      <td>0.0</td>\n",
       "      <td>51.6</td>\n",
       "      <td>13</td>\n",
       "      <td>8</td>\n",
       "      <td>16</td>\n",
       "      <td>45</td>\n",
       "      <td>4</td>\n",
       "      <td>40</td>\n",
       "      <td>40.0</td>\n",
       "      <td>48.4</td>\n",
       "      <td>4</td>\n",
       "      <td>3</td>\n",
       "      <td>9</td>\n",
       "      <td>22</td>\n",
       "      <td>4</td>\n",
       "    </tr>\n",
       "    <tr>\n",
       "      <th>9</th>\n",
       "      <td>4</td>\n",
       "      <td>41</td>\n",
       "      <td>50.0</td>\n",
       "      <td>41.4</td>\n",
       "      <td>18</td>\n",
       "      <td>4</td>\n",
       "      <td>10</td>\n",
       "      <td>24</td>\n",
       "      <td>4</td>\n",
       "      <td>15</td>\n",
       "      <td>50.0</td>\n",
       "      <td>58.6</td>\n",
       "      <td>11</td>\n",
       "      <td>4</td>\n",
       "      <td>9</td>\n",
       "      <td>13</td>\n",
       "      <td>7</td>\n",
       "    </tr>\n",
       "    <tr>\n",
       "      <th>10</th>\n",
       "      <td>2</td>\n",
       "      <td>46</td>\n",
       "      <td>50.0</td>\n",
       "      <td>45.6</td>\n",
       "      <td>9</td>\n",
       "      <td>8</td>\n",
       "      <td>12</td>\n",
       "      <td>29</td>\n",
       "      <td>6</td>\n",
       "      <td>39</td>\n",
       "      <td>0.0</td>\n",
       "      <td>54.4</td>\n",
       "      <td>13</td>\n",
       "      <td>6</td>\n",
       "      <td>6</td>\n",
       "      <td>20</td>\n",
       "      <td>7</td>\n",
       "    </tr>\n",
       "    <tr>\n",
       "      <th>11</th>\n",
       "      <td>2</td>\n",
       "      <td>24</td>\n",
       "      <td>66.7</td>\n",
       "      <td>57.1</td>\n",
       "      <td>7</td>\n",
       "      <td>3</td>\n",
       "      <td>19</td>\n",
       "      <td>23</td>\n",
       "      <td>6</td>\n",
       "      <td>34</td>\n",
       "      <td>0.0</td>\n",
       "      <td>42.9</td>\n",
       "      <td>15</td>\n",
       "      <td>9</td>\n",
       "      <td>9</td>\n",
       "      <td>15</td>\n",
       "      <td>5</td>\n",
       "    </tr>\n",
       "    <tr>\n",
       "      <th>...</th>\n",
       "      <td>...</td>\n",
       "      <td>...</td>\n",
       "      <td>...</td>\n",
       "      <td>...</td>\n",
       "      <td>...</td>\n",
       "      <td>...</td>\n",
       "      <td>...</td>\n",
       "      <td>...</td>\n",
       "      <td>...</td>\n",
       "      <td>...</td>\n",
       "      <td>...</td>\n",
       "      <td>...</td>\n",
       "      <td>...</td>\n",
       "      <td>...</td>\n",
       "      <td>...</td>\n",
       "      <td>...</td>\n",
       "      <td>...</td>\n",
       "    </tr>\n",
       "    <tr>\n",
       "      <th>21383</th>\n",
       "      <td>4</td>\n",
       "      <td>32</td>\n",
       "      <td>0.0</td>\n",
       "      <td>52.6</td>\n",
       "      <td>15</td>\n",
       "      <td>5</td>\n",
       "      <td>9</td>\n",
       "      <td>29</td>\n",
       "      <td>8</td>\n",
       "      <td>19</td>\n",
       "      <td>0.0</td>\n",
       "      <td>47.4</td>\n",
       "      <td>23</td>\n",
       "      <td>6</td>\n",
       "      <td>7</td>\n",
       "      <td>33</td>\n",
       "      <td>4</td>\n",
       "    </tr>\n",
       "    <tr>\n",
       "      <th>21384</th>\n",
       "      <td>4</td>\n",
       "      <td>23</td>\n",
       "      <td>0.0</td>\n",
       "      <td>43.9</td>\n",
       "      <td>23</td>\n",
       "      <td>14</td>\n",
       "      <td>19</td>\n",
       "      <td>20</td>\n",
       "      <td>6</td>\n",
       "      <td>24</td>\n",
       "      <td>50.0</td>\n",
       "      <td>56.1</td>\n",
       "      <td>17</td>\n",
       "      <td>8</td>\n",
       "      <td>7</td>\n",
       "      <td>13</td>\n",
       "      <td>3</td>\n",
       "    </tr>\n",
       "    <tr>\n",
       "      <th>21386</th>\n",
       "      <td>9</td>\n",
       "      <td>32</td>\n",
       "      <td>0.0</td>\n",
       "      <td>63.6</td>\n",
       "      <td>13</td>\n",
       "      <td>4</td>\n",
       "      <td>12</td>\n",
       "      <td>27</td>\n",
       "      <td>9</td>\n",
       "      <td>37</td>\n",
       "      <td>0.0</td>\n",
       "      <td>36.4</td>\n",
       "      <td>17</td>\n",
       "      <td>7</td>\n",
       "      <td>10</td>\n",
       "      <td>27</td>\n",
       "      <td>7</td>\n",
       "    </tr>\n",
       "    <tr>\n",
       "      <th>21390</th>\n",
       "      <td>4</td>\n",
       "      <td>37</td>\n",
       "      <td>75.0</td>\n",
       "      <td>49.0</td>\n",
       "      <td>6</td>\n",
       "      <td>3</td>\n",
       "      <td>11</td>\n",
       "      <td>9</td>\n",
       "      <td>8</td>\n",
       "      <td>21</td>\n",
       "      <td>0.0</td>\n",
       "      <td>51.0</td>\n",
       "      <td>10</td>\n",
       "      <td>3</td>\n",
       "      <td>2</td>\n",
       "      <td>17</td>\n",
       "      <td>5</td>\n",
       "    </tr>\n",
       "    <tr>\n",
       "      <th>21391</th>\n",
       "      <td>18</td>\n",
       "      <td>33</td>\n",
       "      <td>0.0</td>\n",
       "      <td>50.0</td>\n",
       "      <td>17</td>\n",
       "      <td>7</td>\n",
       "      <td>14</td>\n",
       "      <td>31</td>\n",
       "      <td>12</td>\n",
       "      <td>31</td>\n",
       "      <td>0.0</td>\n",
       "      <td>50.0</td>\n",
       "      <td>14</td>\n",
       "      <td>3</td>\n",
       "      <td>3</td>\n",
       "      <td>22</td>\n",
       "      <td>1</td>\n",
       "    </tr>\n",
       "  </tbody>\n",
       "</table>\n",
       "<p>12459 rows × 17 columns</p>\n",
       "</div>"
      ],
      "text/plain": [
       "       home_pim  home_shots  home_powerPlayPercentage  \\\n",
       "2            10          29                       0.0   \n",
       "5            10          27                       0.0   \n",
       "9             4          41                      50.0   \n",
       "10            2          46                      50.0   \n",
       "11            2          24                      66.7   \n",
       "...         ...         ...                       ...   \n",
       "21383         4          32                       0.0   \n",
       "21384         4          23                       0.0   \n",
       "21386         9          32                       0.0   \n",
       "21390         4          37                      75.0   \n",
       "21391        18          33                       0.0   \n",
       "\n",
       "       home_faceOffWinPercentage  home_blocked  home_takeaways  \\\n",
       "2                           68.2            17               5   \n",
       "5                           51.6            13               8   \n",
       "9                           41.4            18               4   \n",
       "10                          45.6             9               8   \n",
       "11                          57.1             7               3   \n",
       "...                          ...           ...             ...   \n",
       "21383                       52.6            15               5   \n",
       "21384                       43.9            23              14   \n",
       "21386                       63.6            13               4   \n",
       "21390                       49.0             6               3   \n",
       "21391                       50.0            17               7   \n",
       "\n",
       "       home_giveaways  home_hits  away_pim  away_shots  \\\n",
       "2                   2         23        12          15   \n",
       "5                  16         45         4          40   \n",
       "9                  10         24         4          15   \n",
       "10                 12         29         6          39   \n",
       "11                 19         23         6          34   \n",
       "...               ...        ...       ...         ...   \n",
       "21383               9         29         8          19   \n",
       "21384              19         20         6          24   \n",
       "21386              12         27         9          37   \n",
       "21390              11          9         8          21   \n",
       "21391              14         31        12          31   \n",
       "\n",
       "       away_powerPlayPercentage  away_faceOffWinPercentage  away_blocked  \\\n",
       "2                          33.3                       31.8             8   \n",
       "5                          40.0                       48.4             4   \n",
       "9                          50.0                       58.6            11   \n",
       "10                          0.0                       54.4            13   \n",
       "11                          0.0                       42.9            15   \n",
       "...                         ...                        ...           ...   \n",
       "21383                       0.0                       47.4            23   \n",
       "21384                      50.0                       56.1            17   \n",
       "21386                       0.0                       36.4            17   \n",
       "21390                       0.0                       51.0            10   \n",
       "21391                       0.0                       50.0            14   \n",
       "\n",
       "       away_takeaways  away_giveaways  away_hits  totalGoals  \n",
       "2                   6               4         23           6  \n",
       "5                   3               9         22           4  \n",
       "9                   4               9         13           7  \n",
       "10                  6               6         20           7  \n",
       "11                  9               9         15           5  \n",
       "...               ...             ...        ...         ...  \n",
       "21383               6               7         33           4  \n",
       "21384               8               7         13           3  \n",
       "21386               7              10         27           7  \n",
       "21390               3               2         17           5  \n",
       "21391               3               3         22           1  \n",
       "\n",
       "[12459 rows x 17 columns]"
      ]
     },
     "execution_count": 184,
     "metadata": {},
     "output_type": "execute_result"
    }
   ],
   "source": [
    "game_stats = pd.read_csv('../csv/game_stats.csv')\n",
    "game_stats[\"totalGoals\"] = game_stats[\"home_goals\"] + game_stats[\"away_goals\"]\n",
    "game_stats = game_stats[game_stats[\"totalGoals\"] < 10]  # remove outliers 99% of games will be kept\n",
    "del game_stats[\"Unnamed: 0\"]\n",
    "del game_stats[\"home_goals\"]\n",
    "del game_stats[\"away_goals\"]\n",
    "del game_stats[\"home_powerPlayGoals\"]\n",
    "del game_stats[\"away_powerPlayGoals\"]\n",
    "del game_stats[\"home_powerPlayOpportunities\"]\n",
    "del game_stats[\"away_powerPlayOpportunities\"]\n",
    "\n",
    "game_stats = game_stats.drop_duplicates()\n",
    "game_stats = game_stats.dropna()\n",
    "\n",
    "game_stats"
   ]
  },
  {
   "cell_type": "markdown",
   "metadata": {},
   "source": [
    "### Partition Training, Validation, and Testing Data"
   ]
  },
  {
   "cell_type": "code",
   "execution_count": 185,
   "metadata": {},
   "outputs": [],
   "source": [
    "col_names = [col for col in game_stats.columns]\n",
    "\n",
    "\n",
    "originalGoals = game_stats[\"totalGoals\"]\n",
    "\n",
    "# z = (x-mean)/std\n",
    "# x = (z*std)+mean\n",
    "\n",
    "original_mean = game_stats.mean()\n",
    "original_std = game_stats.std()\n",
    "\n",
    "game_stats_normalized =(game_stats-original_mean)/original_std\n",
    "game_stats = game_stats_normalized\n",
    "game_stats[\"totalGoals\"] = originalGoals\n",
    "\n",
    "features = np.array(game_stats.loc[:, game_stats.columns != 'totalGoals'],  dtype='float32')\n",
    "# augment bias term to features\n",
    "features = np.concatenate((np.ones((features.shape[0], 1)), features), axis=1)\n",
    "targets = np.array(game_stats['totalGoals'], dtype='int32')\n",
    "\n",
    "\n",
    "x_train = features[:int(features.shape[0] * 0.8)]\n",
    "t_train = targets[:int(targets.shape[0] * 0.8)]\n",
    "\n",
    "x_val = features[int(features.shape[0] * 0.8): int(features.shape[0] * 0.9)]\n",
    "t_val = targets[int(targets.shape[0] * 0.8): int(targets.shape[0] * 0.9)]\n",
    "\n",
    "x_test = features[int(features.shape[0] * 0.9):]\n",
    "t_test = targets[int(targets.shape[0] * 0.9):]\n"
   ]
  },
  {
   "cell_type": "markdown",
   "metadata": {},
   "source": [
    "### Train & Analyze Gradient Descent Optimization for Linear Regression Model"
   ]
  },
  {
   "cell_type": "code",
   "execution_count": 188,
   "metadata": {},
   "outputs": [],
   "source": [
    "batch_size = 32\n",
    "\n",
    "# gradient descent algorithm on x_train and t_train:\n",
    "def gradient_descent(x_train, t_train, x_val, t_val, learning_rate, epochs):\n",
    "    # initialize theta\n",
    "    theta = np.random.rand(x_train.shape[1])\n",
    "    theta_history = []\n",
    "    costs = []\n",
    "    best_theta = theta\n",
    "    best_loss = np.inf\n",
    "    best_epoch = 0\n",
    "    for epoch in tqdm.tqdm(range(epochs)):\n",
    "        # shuffle training data\n",
    "        indx = np.arange(x_train.shape[0])\n",
    "        x_train = x_train[indx]\n",
    "        t_train = t_train[indx]\n",
    "        \n",
    "        # mini batch gradient descent\n",
    "        for i in range(x_train.shape[0]):\n",
    "            # batch size x and t\n",
    "            x = x_train[i:i+batch_size]\n",
    "            t = t_train[i:i+batch_size]\n",
    "            y = np.dot(x, theta)\n",
    "            cost = (y - t) ** 2\n",
    "            # update theta\n",
    "            theta = theta - learning_rate * (2 * x.T.dot(y - t) / x.shape[0])\n",
    "        # append theta_history\n",
    "        theta_history.append(theta)\n",
    "        # calculate cost\n",
    "        cost = (1 / (2 * x_train.shape[0])) * np.sum(np.square(np.dot(x_train, theta) - t_train))\n",
    "        \n",
    "        # store the theta\n",
    "        theta_history.append(theta)\n",
    "        costs.append(np.average(cost))\n",
    "        \n",
    "        # validation\n",
    "        val_preds = np.dot(x_val, theta)\n",
    "        val_loss = (1 / (2 * x_val.shape[0])) * np.sum(np.square(val_preds - t_val))\n",
    "        \n",
    "        if val_loss < best_loss:\n",
    "            best_loss = val_loss\n",
    "            best_theta = theta\n",
    "            best_epoch = epoch\n",
    "        \n",
    "    return best_theta, best_loss, best_epoch, theta_history, costs"
   ]
  },
  {
   "cell_type": "code",
   "execution_count": 189,
   "metadata": {},
   "outputs": [
    {
     "name": "stderr",
     "output_type": "stream",
     "text": [
      "100%|██████████| 100/100 [00:09<00:00, 10.22it/s]\n"
     ]
    }
   ],
   "source": [
    "theta, best_loss, best_epoch, theta_history, costs = gradient_descent(x_train, t_train, x_val, t_val, 1e-5, 100)"
   ]
  },
  {
   "cell_type": "code",
   "execution_count": 190,
   "metadata": {},
   "outputs": [
    {
     "name": "stdout",
     "output_type": "stream",
     "text": [
      "Best loss: 1.6073159123588876\n",
      "Best epoch: 42\n",
      "Best Theta: [ 5.30871611  0.07088352  0.23707349  0.49680763 -0.00880546 -0.08739089\n",
      "  0.01598793  0.03168657 -0.07658502  0.11176754  0.25057874  0.476845\n",
      " -0.01407314 -0.16407724  0.06489239  0.03399744 -0.04056796]\n"
     ]
    }
   ],
   "source": [
    "print(f\"Best loss: {best_loss}\")\n",
    "print(f\"Best epoch: {best_epoch}\")\n",
    "print(f\"Best Theta: {theta}\")"
   ]
  },
  {
   "cell_type": "code",
   "execution_count": 191,
   "metadata": {},
   "outputs": [
    {
     "data": {
      "text/plain": [
       "[<matplotlib.lines.Line2D at 0x7fb738af1430>]"
      ]
     },
     "execution_count": 191,
     "metadata": {},
     "output_type": "execute_result"
    },
    {
     "data": {
      "image/png": "[encoded data removed]",
      "text/plain": [
       "<Figure size 576x144 with 1 Axes>"
      ]
     },
     "metadata": {
      "needs_background": "light"
     },
     "output_type": "display_data"
    }
   ],
   "source": [
    "plt.rcParams[\"figure.figsize\"] = (8, 2)\n",
    "plt.rcParams[\"font.size\"] = 8\n",
    "plt.title(\"Linear Regression w/ Gradient Descent - Training Loss (MSE) vs Epochs\")\n",
    "plt.xlabel(\"Epochs\")\n",
    "plt.ylabel(\"Training Loss (MSE)\")\n",
    "plt.plot(costs)"
   ]
  },
  {
   "cell_type": "code",
   "execution_count": 169,
   "metadata": {},
   "outputs": [],
   "source": [
    "train_predictions = np.dot(x_train, theta)"
   ]
  },
  {
   "cell_type": "code",
   "execution_count": 170,
   "metadata": {},
   "outputs": [
    {
     "data": {
      "image/png": "[encoded data removed]",
      "text/plain": [
       "<Figure size 576x144 with 2 Axes>"
      ]
     },
     "metadata": {
      "needs_background": "light"
     },
     "output_type": "display_data"
    }
   ],
   "source": [
    "# denoarmalize predictions\n",
    "# train_predictions = [(t_i * original_std[\"totalGoals\"]) + original_mean[\"totalGoals\"] for t_i in train_predictions]\n",
    "# t_train = [(ti * original_std[\"totalGoals\"]) + original_mean[\"totalGoals\"] for ti in t_train]\n",
    "\n",
    "plt.plot(train_predictions, 'o')\n",
    "plt.plot(t_train, 'g')\n",
    "\n",
    "\n",
    "plt.subplot(211)\n",
    "plt.plot(train_predictions, 'r-')\n",
    "plt.ylabel('Train Predictions')\n",
    "plt.subplot(212)\n",
    "plt.plot(t_train, 'b-')\n",
    "plt.ylabel('Total Goals')\n",
    "plt.xlabel('Sample #')\n",
    "plt.show()\n"
   ]
  },
  {
   "cell_type": "code",
   "execution_count": 176,
   "metadata": {},
   "outputs": [
    {
     "data": {
      "image/png": "[encoded data removed]",
      "text/plain": [
       "<Figure size 576x144 with 2 Axes>"
      ]
     },
     "metadata": {
      "needs_background": "light"
     },
     "output_type": "display_data"
    }
   ],
   "source": [
    "pred_and_targets_df = pd.DataFrame({f'Training Prediction Distribution (n={len(train_predictions)})': train_predictions, f'Training Target Distribution (n={len(train_predictions)})': t_train})\n",
    "s = pred_and_targets_df.hist()\n",
    "for ax in s.flatten():\n",
    "    ax.set_xlabel(\"FTS\")\n",
    "    ax.set_ylabel(\"Frequency\")"
   ]
  },
  {
   "cell_type": "code",
   "execution_count": 177,
   "metadata": {},
   "outputs": [
    {
     "name": "stdout",
     "output_type": "stream",
     "text": [
      "MSE (Train): 3.294776107738267\n",
      "Prediction Mean (Train): 5.309477841681008\n",
      "Target Mean (Train): 5.310825824737549\n",
      "Prediction Std. (Train): 0.8273625773462772\n",
      "Target Std. (Train): 1.9946517944335938\n"
     ]
    }
   ],
   "source": [
    "print(f\"MSE (Train): {np.average(np.square(train_predictions - t_train))}\")\n",
    "print(f\"Prediction Mean (Train): {np.average(train_predictions)}\")\n",
    "print(f\"Target Mean (Train): {np.average(t_train)}\")\n",
    "print(f\"Prediction Std. (Train): {np.std(train_predictions)}\")\n",
    "print(f\"Target Std. (Train): {np.std(t_train)}\")"
   ]
  },
  {
   "cell_type": "markdown",
   "metadata": {},
   "source": [
    "### Test Weights Against Unseen Data"
   ]
  },
  {
   "cell_type": "code",
   "execution_count": 178,
   "metadata": {},
   "outputs": [],
   "source": [
    "test_predictions = np.dot(x_test, theta)\n",
    "\n",
    "# test_predictions = [(t_i * original_std[\"totalGoals\"]) + original_mean[\"totalGoals\"] for t_i in test_predictions]\n",
    "# t_test = [(ti * original_std[\"totalGoals\"]) + original_mean[\"totalGoals\"] for ti in t_test]"
   ]
  },
  {
   "cell_type": "code",
   "execution_count": 179,
   "metadata": {},
   "outputs": [
    {
     "data": {
      "image/png": "[encoded data removed]",
      "text/plain": [
       "<Figure size 576x144 with 2 Axes>"
      ]
     },
     "metadata": {
      "needs_background": "light"
     },
     "output_type": "display_data"
    }
   ],
   "source": [
    "plt.subplot(211)\n",
    "plt.title(f'Linear Regression w/ Gradient Descent - Predictions vs. Actuals (Test) (n={len(test_predictions)})')\n",
    "plt.plot(test_predictions, 'r-')\n",
    "plt.ylabel('Train Predictions')\n",
    "plt.subplot(212)\n",
    "plt.plot(t_test, 'b-')\n",
    "plt.ylabel('Total Goals')\n",
    "plt.xlabel('Sample #')\n",
    "plt.show()"
   ]
  },
  {
   "cell_type": "code",
   "execution_count": 192,
   "metadata": {},
   "outputs": [
    {
     "data": {
      "image/png": "[encoded data removed]",
      "text/plain": [
       "<Figure size 576x144 with 2 Axes>"
      ]
     },
     "metadata": {
      "needs_background": "light"
     },
     "output_type": "display_data"
    }
   ],
   "source": [
    "pred_and_targets_df = pd.DataFrame({f'Prediction Distribution (Test) (n={len(test_predictions)})': test_predictions, f'Target Distribution (Test) (n={len(test_predictions)})': t_test})\n",
    "s = pred_and_targets_df.hist()\n",
    "for ax in s.flatten():\n",
    "    ax.set_xlabel(\"FTS\")\n",
    "    ax.set_ylabel(\"Frequency\")"
   ]
  },
  {
   "cell_type": "code",
   "execution_count": 181,
   "metadata": {},
   "outputs": [
    {
     "data": {
      "text/plain": [
       "array([[<AxesSubplot:title={'center':'Test Loss Distribution (n=1246)'}>]],\n",
       "      dtype=object)"
      ]
     },
     "execution_count": 181,
     "metadata": {},
     "output_type": "execute_result"
    },
    {
     "data": {
      "image/png": "[encoded data removed]",
      "text/plain": [
       "<Figure size 576x144 with 1 Axes>"
      ]
     },
     "metadata": {
      "needs_background": "light"
     },
     "output_type": "display_data"
    }
   ],
   "source": [
    "test_losses = [abs(t_i - p_i) for t_i, p_i in zip(t_test, test_predictions)]\n",
    "\n",
    "test_loss_df = pd.DataFrame({f'Test Loss Distribution (n={len(test_losses)})': test_losses})\n",
    "test_loss_df.hist()"
   ]
  },
  {
   "cell_type": "code",
   "execution_count": 182,
   "metadata": {},
   "outputs": [
    {
     "name": "stdout",
     "output_type": "stream",
     "text": [
      "MSE (Test): 3.1870585313425535\n",
      "Prediction Mean (Test): 5.325848848081069\n",
      "Target Mean (Test): 5.252006530761719\n",
      "Prediction Std. (Test): 0.8199182857992418\n",
      "Target Std. (Test): 1.9584099054336548\n"
     ]
    }
   ],
   "source": [
    "print(f\"MSE (Test): {np.average(np.square(test_predictions - t_test))}\")\n",
    "print(f\"Prediction Mean (Test): {np.average(test_predictions)}\")\n",
    "print(f\"Target Mean (Test): {np.average(t_test)}\")\n",
    "print(f\"Prediction Std. (Test): {np.std(test_predictions)}\")\n",
    "print(f\"Target Std. (Test): {np.std(t_test)}\")"
   ]
  }
 ],
 "metadata": {
  "interpreter": {
   "hash": "0adcc2737ebf6a4a119f135174df96668767fca1ef1112612db5ecadf2b6d608"
  },
  "kernelspec": {
   "display_name": "Python 3.8.5 64-bit",
   "language": "python",
   "name": "python3"
  },
  "language_info": {
   "codemirror_mode": {
    "name": "ipython",
    "version": 3
   },
   "file_extension": ".py",
   "mimetype": "text/x-python",
   "name": "python",
   "nbconvert_exporter": "python",
   "pygments_lexer": "ipython3",
   "version": "3.8.5"
  },
  "orig_nbformat": 4
 },
 "nbformat": 4,
 "nbformat_minor": 2
}
