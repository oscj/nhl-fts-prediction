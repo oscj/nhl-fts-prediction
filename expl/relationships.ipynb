{
 "cells": [
  {
   "cell_type": "code",
   "execution_count": 1,
   "metadata": {},
   "outputs": [],
   "source": [
    "import pandas as pd\n",
    "import matplotlib.pyplot as plt"
   ]
  },
  {
   "cell_type": "code",
   "execution_count": 2,
   "metadata": {},
   "outputs": [
    {
     "data": {
      "text/html": [
       "<div>\n",
       "<style scoped>\n",
       "    .dataframe tbody tr th:only-of-type {\n",
       "        vertical-align: middle;\n",
       "    }\n",
       "\n",
       "    .dataframe tbody tr th {\n",
       "        vertical-align: top;\n",
       "    }\n",
       "\n",
       "    .dataframe thead th {\n",
       "        text-align: right;\n",
       "    }\n",
       "</style>\n",
       "<table border=\"1\" class=\"dataframe\">\n",
       "  <thead>\n",
       "    <tr style=\"text-align: right;\">\n",
       "      <th></th>\n",
       "      <th>home_pim</th>\n",
       "      <th>home_shots</th>\n",
       "      <th>home_powerPlayPercentage</th>\n",
       "      <th>home_faceOffWinPercentage</th>\n",
       "      <th>home_blocked</th>\n",
       "      <th>home_takeaways</th>\n",
       "      <th>home_giveaways</th>\n",
       "      <th>home_hits</th>\n",
       "      <th>away_pim</th>\n",
       "      <th>away_shots</th>\n",
       "      <th>away_powerPlayPercentage</th>\n",
       "      <th>away_faceOffWinPercentage</th>\n",
       "      <th>away_blocked</th>\n",
       "      <th>away_takeaways</th>\n",
       "      <th>away_giveaways</th>\n",
       "      <th>away_hits</th>\n",
       "      <th>totalGoals</th>\n",
       "    </tr>\n",
       "  </thead>\n",
       "  <tbody>\n",
       "    <tr>\n",
       "      <th>2</th>\n",
       "      <td>10</td>\n",
       "      <td>29</td>\n",
       "      <td>0.0</td>\n",
       "      <td>68.2</td>\n",
       "      <td>17</td>\n",
       "      <td>5</td>\n",
       "      <td>2</td>\n",
       "      <td>23</td>\n",
       "      <td>12</td>\n",
       "      <td>15</td>\n",
       "      <td>33.3</td>\n",
       "      <td>31.8</td>\n",
       "      <td>8</td>\n",
       "      <td>6</td>\n",
       "      <td>4</td>\n",
       "      <td>23</td>\n",
       "      <td>6</td>\n",
       "    </tr>\n",
       "    <tr>\n",
       "      <th>5</th>\n",
       "      <td>10</td>\n",
       "      <td>27</td>\n",
       "      <td>0.0</td>\n",
       "      <td>51.6</td>\n",
       "      <td>13</td>\n",
       "      <td>8</td>\n",
       "      <td>16</td>\n",
       "      <td>45</td>\n",
       "      <td>4</td>\n",
       "      <td>40</td>\n",
       "      <td>40.0</td>\n",
       "      <td>48.4</td>\n",
       "      <td>4</td>\n",
       "      <td>3</td>\n",
       "      <td>9</td>\n",
       "      <td>22</td>\n",
       "      <td>4</td>\n",
       "    </tr>\n",
       "    <tr>\n",
       "      <th>9</th>\n",
       "      <td>4</td>\n",
       "      <td>41</td>\n",
       "      <td>50.0</td>\n",
       "      <td>41.4</td>\n",
       "      <td>18</td>\n",
       "      <td>4</td>\n",
       "      <td>10</td>\n",
       "      <td>24</td>\n",
       "      <td>4</td>\n",
       "      <td>15</td>\n",
       "      <td>50.0</td>\n",
       "      <td>58.6</td>\n",
       "      <td>11</td>\n",
       "      <td>4</td>\n",
       "      <td>9</td>\n",
       "      <td>13</td>\n",
       "      <td>7</td>\n",
       "    </tr>\n",
       "    <tr>\n",
       "      <th>10</th>\n",
       "      <td>2</td>\n",
       "      <td>46</td>\n",
       "      <td>50.0</td>\n",
       "      <td>45.6</td>\n",
       "      <td>9</td>\n",
       "      <td>8</td>\n",
       "      <td>12</td>\n",
       "      <td>29</td>\n",
       "      <td>6</td>\n",
       "      <td>39</td>\n",
       "      <td>0.0</td>\n",
       "      <td>54.4</td>\n",
       "      <td>13</td>\n",
       "      <td>6</td>\n",
       "      <td>6</td>\n",
       "      <td>20</td>\n",
       "      <td>7</td>\n",
       "    </tr>\n",
       "    <tr>\n",
       "      <th>11</th>\n",
       "      <td>2</td>\n",
       "      <td>24</td>\n",
       "      <td>66.7</td>\n",
       "      <td>57.1</td>\n",
       "      <td>7</td>\n",
       "      <td>3</td>\n",
       "      <td>19</td>\n",
       "      <td>23</td>\n",
       "      <td>6</td>\n",
       "      <td>34</td>\n",
       "      <td>0.0</td>\n",
       "      <td>42.9</td>\n",
       "      <td>15</td>\n",
       "      <td>9</td>\n",
       "      <td>9</td>\n",
       "      <td>15</td>\n",
       "      <td>5</td>\n",
       "    </tr>\n",
       "    <tr>\n",
       "      <th>...</th>\n",
       "      <td>...</td>\n",
       "      <td>...</td>\n",
       "      <td>...</td>\n",
       "      <td>...</td>\n",
       "      <td>...</td>\n",
       "      <td>...</td>\n",
       "      <td>...</td>\n",
       "      <td>...</td>\n",
       "      <td>...</td>\n",
       "      <td>...</td>\n",
       "      <td>...</td>\n",
       "      <td>...</td>\n",
       "      <td>...</td>\n",
       "      <td>...</td>\n",
       "      <td>...</td>\n",
       "      <td>...</td>\n",
       "      <td>...</td>\n",
       "    </tr>\n",
       "    <tr>\n",
       "      <th>21383</th>\n",
       "      <td>4</td>\n",
       "      <td>32</td>\n",
       "      <td>0.0</td>\n",
       "      <td>52.6</td>\n",
       "      <td>15</td>\n",
       "      <td>5</td>\n",
       "      <td>9</td>\n",
       "      <td>29</td>\n",
       "      <td>8</td>\n",
       "      <td>19</td>\n",
       "      <td>0.0</td>\n",
       "      <td>47.4</td>\n",
       "      <td>23</td>\n",
       "      <td>6</td>\n",
       "      <td>7</td>\n",
       "      <td>33</td>\n",
       "      <td>4</td>\n",
       "    </tr>\n",
       "    <tr>\n",
       "      <th>21384</th>\n",
       "      <td>4</td>\n",
       "      <td>23</td>\n",
       "      <td>0.0</td>\n",
       "      <td>43.9</td>\n",
       "      <td>23</td>\n",
       "      <td>14</td>\n",
       "      <td>19</td>\n",
       "      <td>20</td>\n",
       "      <td>6</td>\n",
       "      <td>24</td>\n",
       "      <td>50.0</td>\n",
       "      <td>56.1</td>\n",
       "      <td>17</td>\n",
       "      <td>8</td>\n",
       "      <td>7</td>\n",
       "      <td>13</td>\n",
       "      <td>3</td>\n",
       "    </tr>\n",
       "    <tr>\n",
       "      <th>21386</th>\n",
       "      <td>9</td>\n",
       "      <td>32</td>\n",
       "      <td>0.0</td>\n",
       "      <td>63.6</td>\n",
       "      <td>13</td>\n",
       "      <td>4</td>\n",
       "      <td>12</td>\n",
       "      <td>27</td>\n",
       "      <td>9</td>\n",
       "      <td>37</td>\n",
       "      <td>0.0</td>\n",
       "      <td>36.4</td>\n",
       "      <td>17</td>\n",
       "      <td>7</td>\n",
       "      <td>10</td>\n",
       "      <td>27</td>\n",
       "      <td>7</td>\n",
       "    </tr>\n",
       "    <tr>\n",
       "      <th>21390</th>\n",
       "      <td>4</td>\n",
       "      <td>37</td>\n",
       "      <td>75.0</td>\n",
       "      <td>49.0</td>\n",
       "      <td>6</td>\n",
       "      <td>3</td>\n",
       "      <td>11</td>\n",
       "      <td>9</td>\n",
       "      <td>8</td>\n",
       "      <td>21</td>\n",
       "      <td>0.0</td>\n",
       "      <td>51.0</td>\n",
       "      <td>10</td>\n",
       "      <td>3</td>\n",
       "      <td>2</td>\n",
       "      <td>17</td>\n",
       "      <td>5</td>\n",
       "    </tr>\n",
       "    <tr>\n",
       "      <th>21391</th>\n",
       "      <td>18</td>\n",
       "      <td>33</td>\n",
       "      <td>0.0</td>\n",
       "      <td>50.0</td>\n",
       "      <td>17</td>\n",
       "      <td>7</td>\n",
       "      <td>14</td>\n",
       "      <td>31</td>\n",
       "      <td>12</td>\n",
       "      <td>31</td>\n",
       "      <td>0.0</td>\n",
       "      <td>50.0</td>\n",
       "      <td>14</td>\n",
       "      <td>3</td>\n",
       "      <td>3</td>\n",
       "      <td>22</td>\n",
       "      <td>1</td>\n",
       "    </tr>\n",
       "  </tbody>\n",
       "</table>\n",
       "<p>12459 rows × 17 columns</p>\n",
       "</div>"
      ],
      "text/plain": [
       "       home_pim  home_shots  home_powerPlayPercentage  \\\n",
       "2            10          29                       0.0   \n",
       "5            10          27                       0.0   \n",
       "9             4          41                      50.0   \n",
       "10            2          46                      50.0   \n",
       "11            2          24                      66.7   \n",
       "...         ...         ...                       ...   \n",
       "21383         4          32                       0.0   \n",
       "21384         4          23                       0.0   \n",
       "21386         9          32                       0.0   \n",
       "21390         4          37                      75.0   \n",
       "21391        18          33                       0.0   \n",
       "\n",
       "       home_faceOffWinPercentage  home_blocked  home_takeaways  \\\n",
       "2                           68.2            17               5   \n",
       "5                           51.6            13               8   \n",
       "9                           41.4            18               4   \n",
       "10                          45.6             9               8   \n",
       "11                          57.1             7               3   \n",
       "...                          ...           ...             ...   \n",
       "21383                       52.6            15               5   \n",
       "21384                       43.9            23              14   \n",
       "21386                       63.6            13               4   \n",
       "21390                       49.0             6               3   \n",
       "21391                       50.0            17               7   \n",
       "\n",
       "       home_giveaways  home_hits  away_pim  away_shots  \\\n",
       "2                   2         23        12          15   \n",
       "5                  16         45         4          40   \n",
       "9                  10         24         4          15   \n",
       "10                 12         29         6          39   \n",
       "11                 19         23         6          34   \n",
       "...               ...        ...       ...         ...   \n",
       "21383               9         29         8          19   \n",
       "21384              19         20         6          24   \n",
       "21386              12         27         9          37   \n",
       "21390              11          9         8          21   \n",
       "21391              14         31        12          31   \n",
       "\n",
       "       away_powerPlayPercentage  away_faceOffWinPercentage  away_blocked  \\\n",
       "2                          33.3                       31.8             8   \n",
       "5                          40.0                       48.4             4   \n",
       "9                          50.0                       58.6            11   \n",
       "10                          0.0                       54.4            13   \n",
       "11                          0.0                       42.9            15   \n",
       "...                         ...                        ...           ...   \n",
       "21383                       0.0                       47.4            23   \n",
       "21384                      50.0                       56.1            17   \n",
       "21386                       0.0                       36.4            17   \n",
       "21390                       0.0                       51.0            10   \n",
       "21391                       0.0                       50.0            14   \n",
       "\n",
       "       away_takeaways  away_giveaways  away_hits  totalGoals  \n",
       "2                   6               4         23           6  \n",
       "5                   3               9         22           4  \n",
       "9                   4               9         13           7  \n",
       "10                  6               6         20           7  \n",
       "11                  9               9         15           5  \n",
       "...               ...             ...        ...         ...  \n",
       "21383               6               7         33           4  \n",
       "21384               8               7         13           3  \n",
       "21386               7              10         27           7  \n",
       "21390               3               2         17           5  \n",
       "21391               3               3         22           1  \n",
       "\n",
       "[12459 rows x 17 columns]"
      ]
     },
     "execution_count": 2,
     "metadata": {},
     "output_type": "execute_result"
    }
   ],
   "source": [
    "game_stats = pd.read_csv('../csv/game_stats.csv')\n",
    "game_stats[\"totalGoals\"] = game_stats[\"home_goals\"] + game_stats[\"away_goals\"]\n",
    "game_stats = game_stats[game_stats[\"totalGoals\"] < 10]  # remove outliers 99% of games will be kept\n",
    "del game_stats[\"Unnamed: 0\"]\n",
    "del game_stats[\"home_goals\"]\n",
    "del game_stats[\"away_goals\"]\n",
    "del game_stats[\"home_powerPlayGoals\"]\n",
    "del game_stats[\"away_powerPlayGoals\"]\n",
    "del game_stats[\"home_powerPlayOpportunities\"]\n",
    "del game_stats[\"away_powerPlayOpportunities\"]\n",
    "\n",
    "game_stats = game_stats.drop_duplicates()\n",
    "game_stats = game_stats.dropna()\n",
    "\n",
    "game_stats"
   ]
  },
  {
   "cell_type": "code",
   "execution_count": 17,
   "metadata": {},
   "outputs": [
    {
     "data": {
      "text/plain": [
       "<matplotlib.collections.PathCollection at 0x7f9c665cb280>"
      ]
     },
     "execution_count": 17,
     "metadata": {},
     "output_type": "execute_result"
    },
    {
     "data": {
      "image/png": "[encoded data removed]",
      "text/plain": [
       "<Figure size 432x288 with 1 Axes>"
      ]
     },
     "metadata": {
      "needs_background": "light"
     },
     "output_type": "display_data"
    }
   ],
   "source": [
    "home_shots = (game_stats[\"home_shots\"])\n",
    "away_shots = (game_stats[\"away_shots\"])\n",
    "total_goals = (game_stats[\"totalGoals\"])\n",
    "\n",
    "plt.scatter(home_shots + away_shots, total_goals)"
   ]
  },
  {
   "cell_type": "code",
   "execution_count": 16,
   "metadata": {},
   "outputs": [
    {
     "data": {
      "text/plain": [
       "<matplotlib.collections.PathCollection at 0x7f9c665b96a0>"
      ]
     },
     "execution_count": 16,
     "metadata": {},
     "output_type": "execute_result"
    },
    {
     "data": {
      "image/png": "[encoded data removed]",
      "text/plain": [
       "<Figure size 432x288 with 1 Axes>"
      ]
     },
     "metadata": {
      "needs_background": "light"
     },
     "output_type": "display_data"
    }
   ],
   "source": [
    "plt.scatter(game_stats[\"home_takeaways\"] + game_stats[\"away_takeaways\"] , game_stats[\"totalGoals\"])"
   ]
  },
  {
   "cell_type": "code",
   "execution_count": 20,
   "metadata": {},
   "outputs": [
    {
     "data": {
      "text/plain": [
       "<matplotlib.collections.PathCollection at 0x7f9c66903af0>"
      ]
     },
     "execution_count": 20,
     "metadata": {},
     "output_type": "execute_result"
    },
    {
     "data": {
      "image/png": "[encoded data removed]",
      "text/plain": [
       "<Figure size 432x288 with 1 Axes>"
      ]
     },
     "metadata": {
      "needs_background": "light"
     },
     "output_type": "display_data"
    }
   ],
   "source": [
    "plt.scatter(game_stats[\"home_hits\"] + game_stats[\"away_hits\"] , game_stats[\"totalGoals\"])"
   ]
  },
  {
   "cell_type": "code",
   "execution_count": 22,
   "metadata": {},
   "outputs": [
    {
     "data": {
      "text/plain": [
       "<matplotlib.collections.PathCollection at 0x7f9c497d1850>"
      ]
     },
     "execution_count": 22,
     "metadata": {},
     "output_type": "execute_result"
    },
    {
     "data": {
      "image/png": "[encoded data removed]",
      "text/plain": [
       "<Figure size 432x288 with 1 Axes>"
      ]
     },
     "metadata": {
      "needs_background": "light"
     },
     "output_type": "display_data"
    }
   ],
   "source": [
    "plt.scatter(game_stats[\"home_giveaways\"] + game_stats[\"away_giveaways\"] , game_stats[\"totalGoals\"])"
   ]
  },
  {
   "cell_type": "code",
   "execution_count": 23,
   "metadata": {},
   "outputs": [
    {
     "data": {
      "text/plain": [
       "<matplotlib.collections.PathCollection at 0x7f9c497d1820>"
      ]
     },
     "execution_count": 23,
     "metadata": {},
     "output_type": "execute_result"
    },
    {
     "data": {
      "image/png": "[encoded data removed]",
      "text/plain": [
       "<Figure size 432x288 with 1 Axes>"
      ]
     },
     "metadata": {
      "needs_background": "light"
     },
     "output_type": "display_data"
    }
   ],
   "source": [
    "plt.scatter(game_stats[\"home_pim\"] + game_stats[\"away_pim\"] , game_stats[\"totalGoals\"])"
   ]
  },
  {
   "cell_type": "code",
   "execution_count": 25,
   "metadata": {},
   "outputs": [
    {
     "data": {
      "text/plain": [
       "<matplotlib.collections.PathCollection at 0x7f9c498da430>"
      ]
     },
     "execution_count": 25,
     "metadata": {},
     "output_type": "execute_result"
    },
    {
     "data": {
      "image/png": "[encoded data removed]",
      "text/plain": [
       "<Figure size 432x288 with 1 Axes>"
      ]
     },
     "metadata": {
      "needs_background": "light"
     },
     "output_type": "display_data"
    }
   ],
   "source": [
    "plt.scatter(game_stats[\"home_powerPlayPercentage\"], game_stats[\"totalGoals\"])"
   ]
  },
  {
   "cell_type": "code",
   "execution_count": 46,
   "metadata": {},
   "outputs": [
    {
     "data": {
      "text/plain": [
       "<AxesSubplot:title={'center':'Historical Distribution of Final Total Score in the NHL (n= 12459)'}, xlabel='Final Total Score', ylabel='Frequency'>"
      ]
     },
     "execution_count": 46,
     "metadata": {},
     "output_type": "execute_result"
    },
    {
     "data": {
      "image/png": "[encoded data removed]",
      "text/plain": [
       "<Figure size 288x144 with 1 Axes>"
      ]
     },
     "metadata": {
      "needs_background": "light"
     },
     "output_type": "display_data"
    }
   ],
   "source": [
    "plt.rcParams[\"figure.figsize\"] = (4, 2)\n",
    "# set plot title size to small\n",
    "plt.rcParams[\"font.size\"] = 8\n",
    "plt.title(f\"Historical Distribution of Final Total Score in the NHL (n= {len(game_stats)})\")\n",
    "plt.ylabel(\"Frequency\")\n",
    "plt.xlabel(\"Final Total Score\")\n",
    "game_stats[\"totalGoals\"].hist()"
   ]
  },
  {
   "cell_type": "code",
   "execution_count": 35,
   "metadata": {},
   "outputs": [
    {
     "name": "stdout",
     "output_type": "stream",
     "text": [
      "5.302191187093667 1.9889978764755392 3.0\n"
     ]
    }
   ],
   "source": [
    "# get mean and standard deviation of game_stats[\"totalGoals\"]\n",
    "mean = game_stats[\"totalGoals\"].mean()\n",
    "std = game_stats[\"totalGoals\"].std()\n",
    "\n",
    "# get IQR of game_stats[\"totalGoals\"]\n",
    "iqr = game_stats[\"totalGoals\"].quantile(0.75) - game_stats[\"totalGoals\"].quantile(0.25)\n",
    "\n",
    "print(mean, std, iqr)"
   ]
  },
  {
   "cell_type": "code",
   "execution_count": 48,
   "metadata": {},
   "outputs": [
    {
     "data": {
      "text/plain": [
       "home_pim                     0.087542\n",
       "home_shots                   0.114609\n",
       "home_powerPlayPercentage     0.264350\n",
       "home_faceOffWinPercentage   -0.000054\n",
       "home_blocked                -0.035579\n",
       "home_takeaways               0.027947\n",
       "home_giveaways               0.017017\n",
       "home_hits                   -0.043786\n",
       "away_pim                     0.088469\n",
       "away_shots                   0.122245\n",
       "away_powerPlayPercentage     0.243005\n",
       "away_faceOffWinPercentage   -0.002987\n",
       "away_blocked                -0.055242\n",
       "away_takeaways               0.028610\n",
       "away_giveaways               0.027930\n",
       "away_hits                   -0.033793\n",
       "totalGoals                   1.000000\n",
       "Name: totalGoals, dtype: float64"
      ]
     },
     "execution_count": 48,
     "metadata": {},
     "output_type": "execute_result"
    }
   ],
   "source": [
    "game_stats.corr()[\"totalGoals\"]"
   ]
  },
  {
   "cell_type": "code",
   "execution_count": null,
   "metadata": {},
   "outputs": [],
   "source": []
  }
 ],
 "metadata": {
  "interpreter": {
   "hash": "0adcc2737ebf6a4a119f135174df96668767fca1ef1112612db5ecadf2b6d608"
  },
  "kernelspec": {
   "display_name": "Python 3.8.5 64-bit",
   "language": "python",
   "name": "python3"
  },
  "language_info": {
   "codemirror_mode": {
    "name": "ipython",
    "version": 3
   },
   "file_extension": ".py",
   "mimetype": "text/x-python",
   "name": "python",
   "nbconvert_exporter": "python",
   "pygments_lexer": "ipython3",
   "version": "3.8.5"
  },
  "orig_nbformat": 4
 },
 "nbformat": 4,
 "nbformat_minor": 2
}
